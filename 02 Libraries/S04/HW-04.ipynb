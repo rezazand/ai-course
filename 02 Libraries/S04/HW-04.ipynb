{
 "cells": [
  {
   "cell_type": "code",
   "execution_count": 1,
   "id": "488acaad-1e85-471d-a67e-17444d683165",
   "metadata": {},
   "outputs": [],
   "source": [
    "import numpy as np"
   ]
  },
  {
   "cell_type": "markdown",
   "id": "426de847-a40a-4295-9e6e-e0c227380fb6",
   "metadata": {},
   "source": [
    "<div dir='rtl'>\n",
    "    مقدار نرم درجه 3 بردار u را محاسبه کنید.\n",
    "u = (3, 1, 0, 5)\n",
    "</div>"
   ]
  },
  {
   "cell_type": "code",
   "execution_count": 4,
   "id": "9bb94476-955b-4409-bcc5-611babf2b008",
   "metadata": {},
   "outputs": [
    {
     "data": {
      "text/plain": [
       "np.float64(5.348)"
      ]
     },
     "execution_count": 4,
     "metadata": {},
     "output_type": "execute_result"
    }
   ],
   "source": [
    "u = np.array([3,1,0,5])\n",
    "(np.linalg.norm(u,3)).round(3)"
   ]
  },
  {
   "cell_type": "markdown",
   "id": "ffe2e29d-d331-4ba9-9d63-dc4775819855",
   "metadata": {},
   "source": [
    "<div dir='rtl'>\n",
    "    *\n",
    "۶\n",
    "دترمینان وارون ماتریس A کدام است؟\n",
    "\n",
    "![سوال](h4-06.png \"Title\")\n",
    "</div>"
   ]
  },
  {
   "cell_type": "code",
   "execution_count": 10,
   "id": "5993cf59-fd12-44a4-93a8-303c8d961afa",
   "metadata": {},
   "outputs": [],
   "source": [
    "A= np.array([[2,-1,1],[0,-1,1],[-1,1,0]])"
   ]
  },
  {
   "cell_type": "code",
   "execution_count": 19,
   "id": "f659a1e6-0a3a-4f72-96d7-f9eeb125c21f",
   "metadata": {},
   "outputs": [],
   "source": [
    "A_inv = np.linalg.inv(A)"
   ]
  },
  {
   "cell_type": "code",
   "execution_count": 20,
   "id": "0d020c8c-0bad-4f8f-ab63-4f4d9f34ec8c",
   "metadata": {},
   "outputs": [
    {
     "name": "stdout",
     "output_type": "stream",
     "text": [
      "-0.5\n"
     ]
    }
   ],
   "source": [
    "print(np.linalg.det(A_inv))"
   ]
  },
  {
   "cell_type": "markdown",
   "id": "a8b35ec5-8b34-4985-ab08-be57d84ee4a4",
   "metadata": {},
   "source": [
    "<div dir='rtl'>\n",
    "    *\n",
    "۸\n",
    "دستگاه معادلات خطی زیر را حل کنید. مقدار x1 کدام است؟\n",
    "</div>\n",
    " \n",
    "![سوال 8](h4-08.png \"Title\")"
   ]
  },
  {
   "cell_type": "code",
   "execution_count": 63,
   "id": "ce604a66-b877-4b0b-8a39-3ad21d4753b4",
   "metadata": {},
   "outputs": [
    {
     "name": "stdout",
     "output_type": "stream",
     "text": [
      "[[ 8.92307692]\n",
      " [-4.71153846]\n",
      " [ 3.44230769]]\n"
     ]
    }
   ],
   "source": [
    "A = np.array([[1,3,5],\n",
    "              [2,4,0],\n",
    "              [0,7,9]])\n",
    "b = np.array([[12],[-1],[-2]])\n",
    "x= np.linalg.solve(A,b)\n",
    "print(x)"
   ]
  },
  {
   "cell_type": "code",
   "execution_count": 64,
   "id": "6cc5ea31-c9b1-40e5-b098-5cb2e918fed5",
   "metadata": {},
   "outputs": [
    {
     "data": {
      "text/plain": [
       "array([[12.],\n",
       "       [-1.],\n",
       "       [-2.]])"
      ]
     },
     "execution_count": 64,
     "metadata": {},
     "output_type": "execute_result"
    }
   ],
   "source": [
    "np.dot(A,x)"
   ]
  },
  {
   "cell_type": "markdown",
   "id": "b8396902-3c00-463b-a458-f716f061846b",
   "metadata": {},
   "source": [
    "<div dir='rtl'>\n",
    "    *\n",
    "۹\n",
    "یک ماتریس با 5 ردیف و 6 ستون بسازید که اعداد بین 1 تا 3 با فاصله یکنواخت از هم به صورت ستونی آن را پر کرده‌اند. میانگین درایه‌های ستون آخر کدام است؟\n",
    "</div>"
   ]
  },
  {
   "cell_type": "code",
   "execution_count": 91,
   "id": "d1c867e3-b556-4313-8677-5ac5835e6b71",
   "metadata": {},
   "outputs": [
    {
     "name": "stdout",
     "output_type": "stream",
     "text": [
      "[[1.   1.34 1.69 2.03 2.38 2.72]\n",
      " [1.07 1.41 1.76 2.1  2.45 2.79]\n",
      " [1.14 1.48 1.83 2.17 2.52 2.86]\n",
      " [1.21 1.55 1.9  2.24 2.59 2.93]\n",
      " [1.28 1.62 1.97 2.31 2.66 3.  ]]\n"
     ]
    }
   ],
   "source": [
    "m =(((np.linspace(1,3,num=30)).reshape(6,5))).T\n",
    "print(m.round(2))"
   ]
  },
  {
   "cell_type": "code",
   "execution_count": 93,
   "id": "946e4bb1-e0da-49b1-b19c-91b036cceb48",
   "metadata": {},
   "outputs": [
    {
     "data": {
      "text/plain": [
       "np.float64(2.86)"
      ]
     },
     "execution_count": 93,
     "metadata": {},
     "output_type": "execute_result"
    }
   ],
   "source": [
    "m[:,-1].mean().round(2)"
   ]
  },
  {
   "cell_type": "markdown",
   "id": "eedeedff-1a5f-45c7-8af5-2450a17c11a8",
   "metadata": {},
   "source": [
    "<div dir='rtl'>\n",
    "    *\n",
    "۱۰\n",
    "اگر بردار u = (2, 3)  را 30 درجه پاد ساعتگرد دوران دهید، مختصات بردار دوران‌یافته کدام است؟ \n",
    "</div>"
   ]
  },
  {
   "cell_type": "code",
   "execution_count": 104,
   "id": "e44656c7-d45a-4226-8dd7-708442818d39",
   "metadata": {},
   "outputs": [
    {
     "data": {
      "text/plain": [
       "array([0.23205081, 3.59807621])"
      ]
     },
     "execution_count": 104,
     "metadata": {},
     "output_type": "execute_result"
    }
   ],
   "source": [
    "u = np.array([2,3])\n",
    "R = np.array([[np.cos(np.pi/180*30),-1 * np.sin(np.pi/180*30)],[np.sin(np.pi/180*30),np.cos(np.pi/180*30)]])\n",
    "np.dot(R,u)"
   ]
  },
  {
   "cell_type": "code",
   "execution_count": 107,
   "id": "f2192dec-b1fb-4c2f-9a03-3d81709174d5",
   "metadata": {},
   "outputs": [
    {
     "data": {
      "text/plain": [
       "array([0.23205081, 3.59807621])"
      ]
     },
     "execution_count": 107,
     "metadata": {},
     "output_type": "execute_result"
    }
   ],
   "source": [
    "rad = np.deg2rad(30)\n",
    "R = np.array([[np.cos(rad),-1 * np.sin(rad)],[np.sin(deg),np.cos(rad)]])\n",
    "np.dot(R,u)"
   ]
  },
  {
   "cell_type": "code",
   "execution_count": null,
   "id": "887b304f-f991-4e20-8c47-3ab784b4da30",
   "metadata": {},
   "outputs": [],
   "source": []
  }
 ],
 "metadata": {
  "kernelspec": {
   "display_name": "Python 3 (ipykernel)",
   "language": "python",
   "name": "python3"
  },
  "language_info": {
   "codemirror_mode": {
    "name": "ipython",
    "version": 3
   },
   "file_extension": ".py",
   "mimetype": "text/x-python",
   "name": "python",
   "nbconvert_exporter": "python",
   "pygments_lexer": "ipython3",
   "version": "3.13.5"
  }
 },
 "nbformat": 4,
 "nbformat_minor": 5
}
