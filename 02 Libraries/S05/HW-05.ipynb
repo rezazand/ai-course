{
 "cells": [
  {
   "cell_type": "code",
   "execution_count": 119,
   "id": "6e594af2-af66-45d9-ae1b-9e3c67cf5b37",
   "metadata": {},
   "outputs": [],
   "source": [
    "import numpy as np\n",
    "import pandas as pd"
   ]
  },
  {
   "cell_type": "code",
   "execution_count": 120,
   "id": "5b0d20de-43e3-4dc5-9ce7-263408f99aef",
   "metadata": {},
   "outputs": [],
   "source": [
    "data = pd.read_csv('sample_data.csv')"
   ]
  },
  {
   "cell_type": "code",
   "execution_count": 121,
   "id": "2374f7a5-6ffe-4a87-8bfa-91c06a4f4453",
   "metadata": {},
   "outputs": [
    {
     "name": "stdout",
     "output_type": "stream",
     "text": [
      "<class 'pandas.core.frame.DataFrame'>\n",
      "RangeIndex: 500 entries, 0 to 499\n",
      "Data columns (total 11 columns):\n",
      " #   Column            Non-Null Count  Dtype  \n",
      "---  ------            --------------  -----  \n",
      " 0   id                500 non-null    int64  \n",
      " 1   sex               500 non-null    object \n",
      " 2   is_employed       435 non-null    object \n",
      " 3   income            493 non-null    float64\n",
      " 4   marital_status    500 non-null    object \n",
      " 5   health_insurance  500 non-null    bool   \n",
      " 6   housing_type      466 non-null    object \n",
      " 7   recent_move       466 non-null    object \n",
      " 8   num_vehicles      466 non-null    float64\n",
      " 9   age               500 non-null    float64\n",
      " 10  state_of_res      500 non-null    object \n",
      "dtypes: bool(1), float64(3), int64(1), object(6)\n",
      "memory usage: 39.7+ KB\n"
     ]
    }
   ],
   "source": [
    "data.info()"
   ]
  },
  {
   "cell_type": "code",
   "execution_count": 122,
   "id": "1ef5fe56-3e4b-40c8-93d3-ff822e7eb4c3",
   "metadata": {},
   "outputs": [
    {
     "data": {
      "text/plain": [
       "id                   0\n",
       "sex                  0\n",
       "is_employed         65\n",
       "income               7\n",
       "marital_status       0\n",
       "health_insurance     0\n",
       "housing_type        34\n",
       "recent_move         34\n",
       "num_vehicles        34\n",
       "age                  0\n",
       "state_of_res         0\n",
       "dtype: int64"
      ]
     },
     "execution_count": 122,
     "metadata": {},
     "output_type": "execute_result"
    }
   ],
   "source": [
    "np.sum(data.isnull(),axis=0)"
   ]
  },
  {
   "cell_type": "markdown",
   "id": "389f46ef-a3e7-45c6-ae65-5e719a985343",
   "metadata": {},
   "source": [
    "<div dir='rtl'>\n",
    "    *\n",
    "۴\n",
    "داده‌های مدیریت ارتباط با مشتریان (CRM) را که در فایل sample_data.csv قرار دارد، در نظر بگیرید. \n",
    "چند درصد مشتریان، افراد متاهل با درآمد بالای سطح متوسط هستند؟\n",
    "راهنمایی: وضعیت تاهل در ستون marital_status قرار دارد.\n",
    "</div>"
   ]
  },
  {
   "cell_type": "code",
   "execution_count": 123,
   "id": "c25ed9a3-146d-40e5-bcc9-042c8ca8ef69",
   "metadata": {},
   "outputs": [
    {
     "data": {
      "text/plain": [
       "19.8"
      ]
     },
     "execution_count": 123,
     "metadata": {},
     "output_type": "execute_result"
    }
   ],
   "source": [
    "data[(data['marital_status']=='Married') & (data['income'] > data['income'].mean())].shape[0] / data.shape[0] * 100"
   ]
  },
  {
   "cell_type": "markdown",
   "id": "cf6d478e-05cd-4db9-92be-e64cdeab280e",
   "metadata": {},
   "source": [
    "<div dir='rtl'>\n",
    "    *\n",
    "۵\n",
    "داده‌های مدیریت ارتباط با مشتریان (CRM) را که در فایل sample_data.csv قرار دارد، در نظر بگیرید. \n",
    "چند درصد مشتریان زن، بالای 26 سال سن دارند؟\n",
    "</div>"
   ]
  },
  {
   "cell_type": "code",
   "execution_count": 124,
   "id": "3aa03ae5-8efb-4cee-a8de-3c7164c2890e",
   "metadata": {},
   "outputs": [
    {
     "data": {
      "text/plain": [
       "93.36283185840708"
      ]
     },
     "execution_count": 124,
     "metadata": {},
     "output_type": "execute_result"
    }
   ],
   "source": [
    "data[(data['sex'] == 'F') & (data['age']>26)].shape[0] / data[data['sex'] =='F'].shape[0] *100"
   ]
  },
  {
   "cell_type": "markdown",
   "id": "d12dff49-9388-4936-8843-637e624e5810",
   "metadata": {},
   "source": [
    "<div dir='rtl'>\n",
    "    *\n",
    "۶\n",
    "داده‌های مدیریت ارتباط با مشتریان (CRM) را که در فایل sample_data.csv قرار دارد، در نظر بگیرید. \n",
    "چند درصد مشتریان زن بالای 30 سال، شاغل هستند؟\n",
    "راهنمایی: توجه کنید که در ستون وضعیت اشتغال، حجم داده گمشده قابل ملاحظه است.\n",
    "</div>"
   ]
  },
  {
   "cell_type": "code",
   "execution_count": 125,
   "id": "af684349-ad1f-4aaf-8763-9fac90462d7c",
   "metadata": {},
   "outputs": [
    {
     "data": {
      "text/plain": [
       "73.80952380952381"
      ]
     },
     "execution_count": 125,
     "metadata": {},
     "output_type": "execute_result"
    }
   ],
   "source": [
    "data[(data['sex'] == 'F') & (data['age'] > 30) & (data['is_employed'])].shape[0] / data[(data['sex'] == 'F') & (data['age'] > 30) & (data['is_employed'].notnull())].shape[0] *100"
   ]
  },
  {
   "cell_type": "markdown",
   "id": "e4834188-1ba7-44ec-ae89-858f8be4c691",
   "metadata": {},
   "source": [
    "<div dir='rtl'>\n",
    "    *\n",
    "۷\n",
    "داده‌های مدیریت ارتباط با مشتریان (CRM) را که در فایل sample_data.csv قرار دارد، در نظر بگیرید.  \n",
    "چند درصد مشتریانی که دارای بیمه سلامت هستند، شاغلند و درآمد بالای سطح متوسط دارند؟\n",
    "راهنمایی: وضعیت دارا بودن یا نبودن بیمه سلامت در ستون health_insurance مشخص شده است.\n",
    "</div>"
   ]
  },
  {
   "cell_type": "code",
   "execution_count": 126,
   "id": "0b6c4813-2c29-4e81-8f7b-3c2f9b1825e6",
   "metadata": {},
   "outputs": [
    {
     "data": {
      "text/plain": [
       "39.02439024390244"
      ]
     },
     "execution_count": 126,
     "metadata": {},
     "output_type": "execute_result"
    }
   ],
   "source": [
    "co=data[(data['health_insurance']) & data['is_employed'] & (data['income'] > data['income'].mean())].shape[0]\n",
    "total = data[(data['is_employed'].notnull()) & data['health_insurance']].shape[0]\n",
    "co/total *100"
   ]
  },
  {
   "cell_type": "markdown",
   "id": "46c198ba-0d7a-42d8-a5b4-4bccf867facd",
   "metadata": {},
   "source": [
    "<div dir='rtl'>\n",
    "    ۸\n",
    "داده‌های مدیریت ارتباط با مشتریان (CRM) را که در فایل sample_data.csv قرار دارد، در نظر بگیرید. \n",
    "چند درصد مشتریانی که دارای بیمه سلامت هستند، مردان متاهل هستند؟\n",
    "</div>"
   ]
  },
  {
   "cell_type": "code",
   "execution_count": 127,
   "id": "18524c12-0811-456f-8aa6-22d3802ee92f",
   "metadata": {},
   "outputs": [
    {
     "data": {
      "text/plain": [
       "np.float64(36.25592417061612)"
      ]
     },
     "execution_count": 127,
     "metadata": {},
     "output_type": "execute_result"
    }
   ],
   "source": [
    "co = data[(data['sex'] =='M') & (data['marital_status'] =='Married') & data['health_insurance']].shape[0]\n",
    "total = np.sum(data['health_insurance'])\n",
    "co/total*100\n"
   ]
  },
  {
   "cell_type": "markdown",
   "id": "85d84e96-9f6f-4b7a-8345-fdab3acdd55c",
   "metadata": {},
   "source": [
    "<div dir='rtl'>\n",
    "    *\n",
    "۹\n",
    "داده‌های مدیریت ارتباط با مشتریان (CRM) را که در فایل sample_data.csv قرار دارد، در نظر بگیرید.  \n",
    "چند درصد مشتریان متاهل، دارای بیمه سلامت هستند؟\n",
    "</div>"
   ]
  },
  {
   "cell_type": "code",
   "execution_count": 128,
   "id": "a3da16d4-06d0-41cd-ba58-c6f91f676601",
   "metadata": {},
   "outputs": [
    {
     "data": {
      "text/plain": [
       "87.95180722891565"
      ]
     },
     "execution_count": 128,
     "metadata": {},
     "output_type": "execute_result"
    }
   ],
   "source": [
    "data[(data['marital_status'] == 'Married') & data['health_insurance']].shape[0] / data[data['marital_status'] == 'Married'].shape[0] * 100"
   ]
  },
  {
   "cell_type": "markdown",
   "id": "d865117e-c813-47fd-8304-d54125063702",
   "metadata": {},
   "source": [
    "<div dir='rtl'>\n",
    "    *\n",
    "۱۰\n",
    "داده‌های مدیریت ارتباط با مشتریان (CRM) را که در فایل sample_data.csv قرار دارد، در نظر بگیرید. \n",
    "فرض کنید تیم بازاریابی و فروش شرکت، افراد با درآمد بالای سطح متوسط، صاحب خانه و دارای حداقل یک اتومبیل را مشتریان با پتانسیل بالا برای ارائه یک محصول جدید درنظر گرفته است. چند درصد مشتریان شرکت در این گروه جای می‌گیرند؟\n",
    "راهنمایی: وضعیت دارا بودن خانه در ستون housing_type مشخص شده است. از متد value_counts روی این ستون استفاده کنید تا مقدارهای مختلفی را که در این ستون وجود دارد، ببینید.\n",
    "</div>"
   ]
  },
  {
   "cell_type": "code",
   "execution_count": 129,
   "id": "c8213dea-df5b-496d-a8da-04250d040e08",
   "metadata": {},
   "outputs": [
    {
     "data": {
      "text/plain": [
       "housing_type\n",
       "Rented                          192\n",
       "Homeowner with mortgage/loan    192\n",
       "Homeowner free and clear         79\n",
       "Occupied with no rent             3\n",
       "Name: count, dtype: int64"
      ]
     },
     "execution_count": 129,
     "metadata": {},
     "output_type": "execute_result"
    }
   ],
   "source": [
    "data['housing_type'].value_counts()"
   ]
  },
  {
   "cell_type": "code",
   "execution_count": 130,
   "id": "fb381f3b-4132-40ec-bf48-0348f2f3af42",
   "metadata": {},
   "outputs": [
    {
     "data": {
      "text/plain": [
       "26.824034334763947"
      ]
     },
     "execution_count": 130,
     "metadata": {},
     "output_type": "execute_result"
    }
   ],
   "source": [
    "co =data[(data['income'] > data['income'].mean()) & (data['num_vehicles'] != 0) & ((data['housing_type'] == 'Homeowner free and clear') | (data['housing_type'] == 'Homeowner with mortgage/loan' )) ].shape[0]\n",
    "total = data[data['num_vehicles'].notnull() & data['housing_type'].notnull()].shape[0]\n",
    "co/total*100"
   ]
  },
  {
   "cell_type": "code",
   "execution_count": null,
   "id": "c4476029-55cb-4364-973a-bf24fa34df0b",
   "metadata": {},
   "outputs": [],
   "source": []
  },
  {
   "cell_type": "code",
   "execution_count": null,
   "id": "4750b8a5-7663-4f03-b5ae-65402d0e781e",
   "metadata": {},
   "outputs": [],
   "source": []
  }
 ],
 "metadata": {
  "kernelspec": {
   "display_name": "Python 3 (ipykernel)",
   "language": "python",
   "name": "python3"
  },
  "language_info": {
   "codemirror_mode": {
    "name": "ipython",
    "version": 3
   },
   "file_extension": ".py",
   "mimetype": "text/x-python",
   "name": "python",
   "nbconvert_exporter": "python",
   "pygments_lexer": "ipython3",
   "version": "3.13.5"
  }
 },
 "nbformat": 4,
 "nbformat_minor": 5
}
