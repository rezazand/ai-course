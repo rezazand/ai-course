{
 "cells": [
  {
   "cell_type": "markdown",
   "id": "9b2ac1a8-9ba2-4386-8dc9-195cbd40f63b",
   "metadata": {},
   "source": [
    "9. کدی بنویسید که سری اعداد فیبوناچی را تا کوچکتر از ده میلیون تولید کند. آخرین عدد در این سری کدام است؟"
   ]
  },
  {
   "cell_type": "code",
   "execution_count": 1,
   "id": "197675da-48c5-45b9-aae7-bcece23af236",
   "metadata": {},
   "outputs": [],
   "source": [
    "def fibo_last_number(bound):\n",
    "    sequence=[0,1]\n",
    "    i=1\n",
    "    while sequence[i] + sequence[i-1] < bound:\n",
    "        sequence.append(sequence[i] + sequence[i-1])\n",
    "        i +=1\n",
    "    return sequence[-1]"
   ]
  },
  {
   "cell_type": "code",
   "execution_count": 2,
   "id": "235cbecd-cfff-4c91-bbc5-bb28b2e24f94",
   "metadata": {},
   "outputs": [
    {
     "data": {
      "text/plain": [
       "9227465"
      ]
     },
     "execution_count": 2,
     "metadata": {},
     "output_type": "execute_result"
    }
   ],
   "source": [
    "fibo_last_number(10000000)"
   ]
  },
  {
   "cell_type": "markdown",
   "id": "f2df05ed-0c52-4f19-b627-97766b70e05b",
   "metadata": {},
   "source": [
    "10. کدی بنویسید که یک عدد صحیح مثبت از کاربر دریافت می‌کند و بعنوان خروجی اعلام می‌کند که عدد ورودی اول است یا خیر. با استفاده از کدتان مشخص کنید کدام گزینه یک عدد اول است؟"
   ]
  },
  {
   "cell_type": "code",
   "execution_count": 3,
   "id": "fed07b7d-0642-4f92-8d41-2f54aa77b1e0",
   "metadata": {},
   "outputs": [],
   "source": [
    "def is_prime(number):\n",
    "    if number <= 1:\n",
    "        return False\n",
    "     #Divide the input by all numbers less than or equal to the square root of the input.\n",
    "    for i in range(2,int(number ** (1/2))+1):\n",
    "        if number % i ==0:\n",
    "            return False\n",
    "    return True"
   ]
  },
  {
   "cell_type": "code",
   "execution_count": 4,
   "id": "a646d6ae-1c8b-46e5-99b0-73715073ff06",
   "metadata": {},
   "outputs": [
    {
     "name": "stdout",
     "output_type": "stream",
     "text": [
      "False\n",
      "False\n",
      "False\n",
      "False\n",
      "False\n",
      "False\n",
      "False\n",
      "False\n",
      "3.78 s ± 213 ms per loop (mean ± std. dev. of 7 runs, 1 loop each)\n"
     ]
    }
   ],
   "source": [
    "%%timeit\n",
    "print(is_prime(764214897046969))"
   ]
  },
  {
   "cell_type": "code",
   "execution_count": 5,
   "id": "fa8d164c-581b-4955-8920-d58374020146",
   "metadata": {},
   "outputs": [
    {
     "name": "stdout",
     "output_type": "stream",
     "text": [
      "True\n",
      "True\n",
      "True\n",
      "True\n",
      "True\n",
      "True\n",
      "True\n",
      "True\n",
      "6.25 s ± 497 ms per loop (mean ± std. dev. of 7 runs, 1 loop each)\n"
     ]
    }
   ],
   "source": [
    "%%timeit\n",
    "print(is_prime(1925320391606803))"
   ]
  },
  {
   "cell_type": "code",
   "execution_count": 6,
   "id": "f5d62959-ec07-4d42-8c7e-865c648f2bff",
   "metadata": {},
   "outputs": [
    {
     "data": {
      "text/plain": [
       "False"
      ]
     },
     "execution_count": 6,
     "metadata": {},
     "output_type": "execute_result"
    }
   ],
   "source": [
    "is_prime(62615533)"
   ]
  },
  {
   "cell_type": "code",
   "execution_count": 7,
   "id": "334b3c4f-edf1-43d6-9014-382164ecb235",
   "metadata": {},
   "outputs": [
    {
     "data": {
      "text/plain": [
       "False"
      ]
     },
     "execution_count": 7,
     "metadata": {},
     "output_type": "execute_result"
    }
   ],
   "source": [
    "is_prime(2519233)"
   ]
  },
  {
   "cell_type": "code",
   "execution_count": 8,
   "id": "ecce7b4f-6c16-40be-8dd6-c906c51005f5",
   "metadata": {},
   "outputs": [],
   "source": [
    "def fast_is_prime(number):\n",
    "    if number <= 1:\n",
    "        return False\n",
    "    if number == 2 or number == 3:\n",
    "        return True\n",
    "    if number%2 == 0 or number%3==0:\n",
    "        return False\n",
    "    #Divide the input by all numbers in format of 6k±1\n",
    "    i = 5\n",
    "    while i <= (int(number ** (1/2))+1):\n",
    "        if number % i==0 or number % (i+2) == 0:\n",
    "            return False\n",
    "        i+=6\n",
    "    return True"
   ]
  },
  {
   "cell_type": "code",
   "execution_count": 9,
   "id": "81302e15-1eaf-4f29-a967-c93081681ee8",
   "metadata": {},
   "outputs": [
    {
     "name": "stdout",
     "output_type": "stream",
     "text": [
      "False\n",
      "False\n",
      "False\n",
      "False\n",
      "False\n",
      "False\n",
      "False\n",
      "False\n",
      "2.72 s ± 94.9 ms per loop (mean ± std. dev. of 7 runs, 1 loop each)\n"
     ]
    }
   ],
   "source": [
    "%%timeit\n",
    "print(fast_is_prime(764214897046969))"
   ]
  },
  {
   "cell_type": "code",
   "execution_count": 10,
   "id": "44c6c172-5b5f-4b89-963d-8ac81b602f5a",
   "metadata": {},
   "outputs": [
    {
     "name": "stdout",
     "output_type": "stream",
     "text": [
      "True\n",
      "True\n",
      "True\n",
      "True\n",
      "True\n",
      "True\n",
      "True\n",
      "True\n",
      "4.31 s ± 59.3 ms per loop (mean ± std. dev. of 7 runs, 1 loop each)\n"
     ]
    }
   ],
   "source": [
    "%%timeit\n",
    "print(fast_is_prime(1925320391606803))"
   ]
  },
  {
   "cell_type": "code",
   "execution_count": 11,
   "id": "d93f19d6-4ec7-4260-98c9-2cbccc7632d4",
   "metadata": {},
   "outputs": [
    {
     "data": {
      "text/plain": [
       "False"
      ]
     },
     "execution_count": 11,
     "metadata": {},
     "output_type": "execute_result"
    }
   ],
   "source": [
    "fast_is_prime(62615533)"
   ]
  },
  {
   "cell_type": "code",
   "execution_count": 12,
   "id": "27c4d9bd-7884-432c-87fc-e0037ec0dac7",
   "metadata": {},
   "outputs": [
    {
     "data": {
      "text/plain": [
       "False"
      ]
     },
     "execution_count": 12,
     "metadata": {},
     "output_type": "execute_result"
    }
   ],
   "source": [
    "fast_is_prime(2519233)"
   ]
  },
  {
   "cell_type": "code",
   "execution_count": null,
   "id": "34f11a4e-ba46-4fe6-af95-b8acd5b03737",
   "metadata": {},
   "outputs": [],
   "source": []
  }
 ],
 "metadata": {
  "kernelspec": {
   "display_name": "Python 3 (ipykernel)",
   "language": "python",
   "name": "python3"
  },
  "language_info": {
   "codemirror_mode": {
    "name": "ipython",
    "version": 3
   },
   "file_extension": ".py",
   "mimetype": "text/x-python",
   "name": "python",
   "nbconvert_exporter": "python",
   "pygments_lexer": "ipython3",
   "version": "3.13.5"
  }
 },
 "nbformat": 4,
 "nbformat_minor": 5
}
