{
 "cells": [
  {
   "cell_type": "markdown",
   "id": "d7665d11-1832-4b08-b28c-3d078a5c6199",
   "metadata": {},
   "source": [
    "\n",
    "۲\n",
    "با استفاده از کتابخانه math در پایتون مقدار عددی عبارت زیر را تا سه رقم اعشار بدست آورید.\n"
   ]
  },
  {
   "cell_type": "code",
   "execution_count": 4,
   "id": "3944e2dd-72c8-4da1-86d7-f068a65574a4",
   "metadata": {},
   "outputs": [
    {
     "data": {
      "text/plain": [
       "26.678"
      ]
     },
     "execution_count": 4,
     "metadata": {},
     "output_type": "execute_result"
    }
   ],
   "source": [
    "import math\n",
    "round((math.pow(math.e,3) - math.pi/2 + math.tan(math.pi/5))/math.tanh(1/math.log(3)),3)"
   ]
  },
  {
   "cell_type": "markdown",
   "id": "ab8db0cc-8266-487b-8689-e35e8a113a47",
   "metadata": {},
   "source": [
    "۳\n",
    "در آمار، ضریب تغییرات (Coefficient of Variation) برابر میانگین تقسیم بر انحراف معیار است. ضریب تغییرات را برای لیست زیر محاسبه کنید."
   ]
  },
  {
   "cell_type": "code",
   "execution_count": 5,
   "id": "db0c2899-5931-44ca-9c00-f5c31504ee4a",
   "metadata": {},
   "outputs": [],
   "source": [
    "l=[1,1,1,3,3,5,7,16,21,26,34,42,53,61]"
   ]
  },
  {
   "cell_type": "code",
   "execution_count": 7,
   "id": "f32523fc-797e-4dda-b373-61352eafcdc9",
   "metadata": {},
   "outputs": [
    {
     "data": {
      "text/plain": [
       "0.947"
      ]
     },
     "execution_count": 7,
     "metadata": {},
     "output_type": "execute_result"
    }
   ],
   "source": [
    "import statistics as stat\n",
    "round(stat.mean(l)/stat.stdev(l),3)\n"
   ]
  },
  {
   "cell_type": "markdown",
   "id": "343326ae-a9b8-45ef-aa84-da86e39984af",
   "metadata": {},
   "source": [
    "۷\n",
    "تابعی بنویسید که یک عدد صحیح مثبت از کاربر دریافت کند و جمع ارقام آن را بعنوان خروجی برگرداند. تابع خود را برای عدد 146018399502 آزمایش کنید. پاسخ صحیح کدام است؟"
   ]
  },
  {
   "cell_type": "code",
   "execution_count": 10,
   "id": "929f1fda-da0c-472a-a0dc-2e3293676e33",
   "metadata": {},
   "outputs": [],
   "source": [
    "def sum_digits(number:int):\n",
    "    sum =0\n",
    "    for digit in str(number):\n",
    "        sum += int(digit)\n",
    "    return sum"
   ]
  },
  {
   "cell_type": "code",
   "execution_count": 16,
   "id": "fcafc03c-7642-4342-bd47-afa5243d2a79",
   "metadata": {},
   "outputs": [],
   "source": [
    "def sum_digits2(number:int):\n",
    "    sum=0\n",
    "    while number:\n",
    "        sum += number % 10\n",
    "        number = int(number / 10)\n",
    "    return sum"
   ]
  },
  {
   "cell_type": "code",
   "execution_count": 22,
   "id": "a5e34fa2-d541-4497-ac96-31edeabad4ab",
   "metadata": {},
   "outputs": [
    {
     "data": {
      "text/plain": [
       "48"
      ]
     },
     "execution_count": 22,
     "metadata": {},
     "output_type": "execute_result"
    }
   ],
   "source": [
    "sum_digits2(146018399502)"
   ]
  },
  {
   "cell_type": "code",
   "execution_count": 19,
   "id": "0e3276a0-ca28-4321-a936-ff31ca969ce8",
   "metadata": {},
   "outputs": [
    {
     "data": {
      "text/plain": [
       "True"
      ]
     },
     "execution_count": 19,
     "metadata": {},
     "output_type": "execute_result"
    }
   ],
   "source": [
    "bool(sum_digits(146018399502)==sum_digits2(146018399502))"
   ]
  },
  {
   "cell_type": "markdown",
   "id": "d1f276d9-ee0d-445b-b200-da7b3070c684",
   "metadata": {},
   "source": [
    "ریشه معادله زیر را در بازه [2 , 1] با استفاده از روش نیوتن-رافسون محاسبه کنید."
   ]
  },
  {
   "cell_type": "code",
   "execution_count": 23,
   "id": "7dbb65b3-8688-4762-87ab-21edb26a13e9",
   "metadata": {},
   "outputs": [],
   "source": [
    "# x**3 -3x + 1=0"
   ]
  },
  {
   "cell_type": "code",
   "execution_count": 37,
   "id": "4b7abfb1-299c-4dd8-9662-98fe8becf389",
   "metadata": {},
   "outputs": [
    {
     "data": {
      "text/plain": [
       "1.532"
      ]
     },
     "execution_count": 37,
     "metadata": {},
     "output_type": "execute_result"
    }
   ],
   "source": [
    "def f(x):\n",
    "    return x**3 -3*x + 1\n",
    "\n",
    "def g(x):\n",
    "    return 3* x**2 -3\n",
    "\n",
    "all_x=[1.1]\n",
    "delta =1 \n",
    "while delta > 0.00001:\n",
    "    x0=all_x[-1]\n",
    "    x1 = x0 - f(x0)/g(x0)\n",
    "    all_x.append(x1)\n",
    "    delta = abs(x1 - x0)\n",
    "round(all_x[-1],3)"
   ]
  },
  {
   "cell_type": "markdown",
   "id": "bc92f7fe-a9c8-4af9-a4ec-390ce3643dbb",
   "metadata": {},
   "source": [
    "۹\n",
    "آزمایش زیر را در نظر بگیرید:\n",
    "\n",
    "یک سکه منصف را آنقدر پرتاب کنید تا سومین شیر بیاد و پرتاب سکه متوقف شود.\n",
    "\n",
    "بطور متوسط چند بار باید سکه را پرتاب کرد تا آزمایش متوقف شود؟\n",
    "\n",
    "راهنمایی: برای پاسخ به این سوال باید امید ریاضی (میانگین) پرتاب‌ها را محاسبه کنید. آزمایش بالا را 100 هزار بار تکرار کنید و تعداد پرتاب در هر آزمایش را محاسبه و در لیستی ذخیره کنید. میانگین درایه‌های لیست، پاسخ را بدست می‌دهد."
   ]
  },
  {
   "cell_type": "code",
   "execution_count": 47,
   "id": "0a6acf9d-30c7-4961-89a3-fe0097d9c614",
   "metadata": {},
   "outputs": [
    {
     "data": {
      "text/plain": [
       "6.00105"
      ]
     },
     "execution_count": 47,
     "metadata": {},
     "output_type": "execute_result"
    }
   ],
   "source": [
    "import random as ra\n",
    "import statistics as stat\n",
    "flips_list=[]\n",
    "\n",
    "for i in range(100000):\n",
    "    flips=0\n",
    "    nhead= 0\n",
    "    while nhead <3:\n",
    "        if ra.sample(['H','T'],1)[0] == 'H':\n",
    "            nhead+=1\n",
    "        flips +=1\n",
    "    flips_list.append(flips)\n",
    "\n",
    "stat.mean(flips_list) #sum(flips_list)/len(flips_list)"
   ]
  },
  {
   "cell_type": "markdown",
   "id": "bb3bcfd2-8965-42da-81b9-42b6687cddb5",
   "metadata": {},
   "source": [
    "۱۰\n",
    "مدل ریکر (Ricker’s Model) در مدل‌سازی جمعیت یک گونه زیستی بکار می‌رود. بر اساس مدل ریکر جمعیت در زمان t+1 بر اساس جمعیت در زمان t از رابطه زیر محاسبه می‌شود. \n",
    "\n",
    "در رابطه زیر r نرخ رشد جمعیت، k حداکثر جمعیت ممکن آن گونه زیستی با توجه به ظرفیت محیط و N_t و N_t+1 به ترتیب جمعیت در زمان t و t+1 است. \n",
    "\n",
    "تابعی در پایتون بنویسید که جمعیت در زمان t+1 را محاسبه کند.\n",
    "\n",
    "اگر در زمان صفر جمعیت گونه زیستی 100، نرخ رشد آن 9 درصد و حداکثر ظرفیت ۱۰۰۰۰ باشد، بر اساس مدل ریکر در زمان t = 80 جمعیت گونه چقدر است؟"
   ]
  },
  {
   "cell_type": "code",
   "execution_count": 66,
   "id": "d0adbe80-fe62-4a3d-a9e8-56a4a3d3ac71",
   "metadata": {},
   "outputs": [],
   "source": [
    "import math\n",
    "def ricker_model(p0,rate,max_cap,t):\n",
    "    while t >0:\n",
    "        p1 = p0* (math.e**(rate*(1-p0/max_cap)))\n",
    "        p0=p1\n",
    "        t -=1\n",
    "    return p0"
   ]
  },
  {
   "cell_type": "code",
   "execution_count": 67,
   "id": "5a982681-d732-44b4-9dc0-83fee0198241",
   "metadata": {},
   "outputs": [
    {
     "data": {
      "text/plain": [
       "9388.196072146662"
      ]
     },
     "execution_count": 67,
     "metadata": {},
     "output_type": "execute_result"
    }
   ],
   "source": [
    "ricker_model(100,0.09,10000,80)"
   ]
  },
  {
   "cell_type": "code",
   "execution_count": null,
   "id": "b7c036ad-063d-4cfa-8d26-dcdf80ae288b",
   "metadata": {},
   "outputs": [],
   "source": []
  }
 ],
 "metadata": {
  "kernelspec": {
   "display_name": "Python 3 (ipykernel)",
   "language": "python",
   "name": "python3"
  },
  "language_info": {
   "codemirror_mode": {
    "name": "ipython",
    "version": 3
   },
   "file_extension": ".py",
   "mimetype": "text/x-python",
   "name": "python",
   "nbconvert_exporter": "python",
   "pygments_lexer": "ipython3",
   "version": "3.13.5"
  }
 },
 "nbformat": 4,
 "nbformat_minor": 5
}
