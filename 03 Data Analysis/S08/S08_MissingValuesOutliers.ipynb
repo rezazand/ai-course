{
 "cells": [
  {
   "cell_type": "markdown",
   "id": "b71b6c1c",
   "metadata": {},
   "source": [
    "# Missing Values and Outliers"
   ]
  },
  {
   "cell_type": "markdown",
   "id": "d4e37a43",
   "metadata": {},
   "source": [
    "## Data Science, Machine Learning and Artificial Intelligence - by Farzad Minooei"
   ]
  },
  {
   "cell_type": "markdown",
   "id": "75e01129",
   "metadata": {},
   "source": [
    "## Missing Values"
   ]
  },
  {
   "cell_type": "markdown",
   "id": "ecc17722",
   "metadata": {},
   "source": [
    "Ref: \n",
    "\n",
    "Flexible Imputation of Missing Data, Stef van Braun (2018). Ed. 2.\n",
    "\n",
    "https://stefvanbuuren.name/fimd/\n",
    "\n",
    "Multivariate Data Analysis, Joseph F. Hair, William C. Black, Barry J. Babin, Rolph E. Anderson (2013). Ed. 7."
   ]
  },
  {
   "cell_type": "markdown",
   "id": "f164f711",
   "metadata": {},
   "source": [
    "Problems w/ MVs:\n",
    "\n",
    "     #1: reduction of the sample size available for analysis\n",
    "     \n",
    "     #2: bias resulting from differences between missing and complete data"
   ]
  },
  {
   "cell_type": "markdown",
   "id": "47c0fcf8",
   "metadata": {},
   "source": [
    "#### Four-Step Process for Identifying Missing Data and Applying Remedies"
   ]
  },
  {
   "cell_type": "markdown",
   "id": "381bd182",
   "metadata": {},
   "source": [
    "Step 1: Determine the type of MVs\n",
    "\n",
    "    Know the cause\n",
    "\n",
    "    Ignorable MVs\n",
    "    \n",
    "         Specific design of the data collection process\n",
    "         \n",
    "         Censored data\n",
    "\n",
    "Step 2:  Determine the extent of MVs\n",
    "\n",
    "    How much MVs are OK? ---> can generally be ignored\n",
    "         \n",
    "         under 5% - 10% of observations are missed.\n",
    "         \n",
    "    Randomness\n",
    "    \n",
    "    Sufficient data for the selected analysis technique\n",
    "\n",
    "Step 3:  Diagnose the randomness of the MVs processes\n",
    "\n",
    "    Missing not at random (MNAR)\n",
    "    \n",
    "    Missing completely at random (MCAR)\n",
    "    \n",
    "    Missing at random (MAR) if the missing values of Y depend on X, but not on Y\n",
    "    \n",
    "Step 4:  Select the imputation method\n",
    "    \n",
    "    Imputation is the process of estimating the missing value    \n",
    "    based on valid values of other variables and/or cases in the sample.\n",
    "    \n",
    "    Some imputation methods:\n",
    "    \n",
    "        -- Complete case approach\n",
    "        \n",
    "        -- Using all-available data\n",
    "        \n",
    "        -- Mean/Median substitution\n",
    "        \n",
    "        -- MICE (Multivariate Imputation by Chained Equations) algorithm\n",
    "        \n",
    "            step 1: For each variable, replace the missing value with a simple imputation strategy such as mean imputation, also considered as “placeholders.”\n",
    "               \n",
    "            step 2: The “placeholders” for the first variable, X1, are regressed by using machine learning where X1 is the dependent variable, and the rest of the variables are the independent variables. The process continues as such until all the variables are considered at least once as the dependent variable.\n",
    "            \n",
    "            step 3: Those original “placeholders” are then replaced with the predictions from the model.\n",
    "            \n",
    "            step 4: The replacement process is repeated for a number of cycles which is generally ten, according to Raghunathan et al. 2002, and the imputation is updated at each cycle.\n",
    "            \n",
    "            step 5: At the end of the cycle, the missing values are ideally replaced with the prediction values that best reflect the relationships identified in the data."
   ]
  },
  {
   "cell_type": "markdown",
   "id": "98214e3e",
   "metadata": {},
   "source": [
    "### Business Undestanding"
   ]
  },
  {
   "cell_type": "markdown",
   "id": "1ef31a59",
   "metadata": {},
   "source": [
    "Goal:\n",
    "\n",
    "Survey analysis: calculate Pearson correlaion w/ missing values"
   ]
  },
  {
   "cell_type": "markdown",
   "id": "0300dd00",
   "metadata": {},
   "source": [
    "### Initial Setup"
   ]
  },
  {
   "cell_type": "code",
   "execution_count": null,
   "id": "b48bcf6e",
   "metadata": {},
   "outputs": [],
   "source": [
    "#Required libraries\n",
    "import numpy as np\n",
    "import pandas as pd\n",
    "import matplotlib.pyplot as plt"
   ]
  },
  {
   "cell_type": "code",
   "execution_count": null,
   "id": "3ebaea5a",
   "metadata": {},
   "outputs": [],
   "source": [
    "#Read data from file\n",
    "data = pd.read_csv('cs_02.csv')\n",
    "data.head()"
   ]
  },
  {
   "cell_type": "code",
   "execution_count": null,
   "id": "6fb0a55e",
   "metadata": {},
   "outputs": [],
   "source": [
    "data.shape"
   ]
  },
  {
   "cell_type": "markdown",
   "id": "ba3bd945-1bd4-47e9-ba83-3c086e539453",
   "metadata": {},
   "source": [
    "### Exploratory Data Analysis"
   ]
  },
  {
   "cell_type": "markdown",
   "id": "58f21c97-c3e8-40a3-8e4b-ae36ce05cec7",
   "metadata": {},
   "source": [
    "#### 1: Understand Data Collection Process"
   ]
  },
  {
   "cell_type": "markdown",
   "id": "2105d5c4-05db-440f-83b5-49ab57ab9c4d",
   "metadata": {},
   "source": [
    "Data collected from an online customer satisfaction survey."
   ]
  },
  {
   "cell_type": "markdown",
   "id": "5f1ac62a-9b2b-4524-a2ec-3face9f9297f",
   "metadata": {},
   "source": [
    "#### 2: Document Data Set Description (Meta Data)"
   ]
  },
  {
   "cell_type": "code",
   "execution_count": null,
   "id": "ea4dc18d",
   "metadata": {},
   "outputs": [],
   "source": [
    "data.info()"
   ]
  },
  {
   "cell_type": "markdown",
   "id": "971703f0-8069-4a96-83bc-756879413a5a",
   "metadata": {},
   "source": [
    "id: unique identification number\n",
    "\n",
    "age: age of the respondent (numeric)\n",
    "\n",
    "gender: gender of the respondent (binary: 'F': female, 'M': male)\n",
    "\n",
    "customer_longevity: the length of time a customer continues to transact with the company (ordinal: 0: Never used, 1: Less than 1 year, 2: 1 - 2 years, 3: Over 2 years)\n",
    "\n",
    "customer_satisfaction_score: customer satisfaction score from 1 to 10 (numeric)\n",
    "\n",
    "net_promoter_score: the likelihood of recommending the company from 1 to 10 (numeric)\n",
    "\n",
    "customer_effort_score: the amount of effort the respondent had to exert to use company's product from 1 to 10 (numeric)"
   ]
  },
  {
   "cell_type": "markdown",
   "id": "eeab3fac-268a-4a1f-817a-e0e01d8bbceb",
   "metadata": {},
   "source": [
    "#### 3: Check for Missing Values"
   ]
  },
  {
   "cell_type": "code",
   "execution_count": null,
   "id": "6bd6b94a",
   "metadata": {},
   "outputs": [],
   "source": [
    "#Step 1: Determine the type of MVs\n",
    "#Know the cause\n",
    "np.sum(data.isnull(), axis = 0)"
   ]
  },
  {
   "cell_type": "code",
   "execution_count": null,
   "id": "bc40e028",
   "metadata": {},
   "outputs": [],
   "source": [
    "#The number of MVs in each column\n",
    "np.sum(data == '.', axis = 0)"
   ]
  },
  {
   "cell_type": "code",
   "execution_count": null,
   "id": "76bce1bb",
   "metadata": {},
   "outputs": [],
   "source": [
    "#Replace '.' with nan\n",
    "data[data == '.'] = np.nan"
   ]
  },
  {
   "cell_type": "code",
   "execution_count": null,
   "id": "5ee01ad0",
   "metadata": {},
   "outputs": [],
   "source": [
    "#The number of MVs in each column\n",
    "np.sum(data.isnull(), axis = 0)"
   ]
  },
  {
   "cell_type": "code",
   "execution_count": null,
   "id": "42484863",
   "metadata": {},
   "outputs": [],
   "source": [
    "#Get info\n",
    "data.info()"
   ]
  },
  {
   "cell_type": "code",
   "execution_count": null,
   "id": "785ba941",
   "metadata": {},
   "outputs": [],
   "source": [
    "#Use astype method to change data type of a column\n",
    "data['customer_satisfaction_score'].astype('float')"
   ]
  },
  {
   "cell_type": "code",
   "execution_count": null,
   "id": "c4c1884b",
   "metadata": {},
   "outputs": [],
   "source": [
    "#Change data type of numeric columns\n",
    "data[data.columns[4 : ]] = data.iloc[:, 4 : ].apply(lambda col: col.astype('float'), axis = 0)"
   ]
  },
  {
   "cell_type": "code",
   "execution_count": null,
   "id": "9559298a",
   "metadata": {},
   "outputs": [],
   "source": [
    "#Get info\n",
    "data.info()"
   ]
  },
  {
   "cell_type": "code",
   "execution_count": null,
   "id": "e498730a",
   "metadata": {},
   "outputs": [],
   "source": [
    "#Step 2: Determine the extent of MVs\n",
    "#Summary of MVs in each column\n",
    "mvs_summary = pd.DataFrame({'freq' : np.sum(data.isnull(), axis = 0)})\n",
    "mvs_summary['pct'] = round(mvs_summary['freq'] / data.shape[0] * 100, 1)\n",
    "mvs_summary.sort_values(by = 'pct', ascending = False)"
   ]
  },
  {
   "cell_type": "code",
   "execution_count": null,
   "id": "cb683c3f",
   "metadata": {},
   "outputs": [],
   "source": [
    "#Summary of MVs for each case\n",
    "data.loc[:, 'mvs'] = np.sum(data.isnull(), axis = 1)\n",
    "data.sort_values(by = 'mvs', ascending = False).head(10)"
   ]
  },
  {
   "cell_type": "code",
   "execution_count": null,
   "id": "4e346ca7",
   "metadata": {},
   "outputs": [],
   "source": [
    "#Decision: remove cases with more than 50% mvs\n",
    "data.drop(index = [65, 84, 85, 87], inplace = True)"
   ]
  },
  {
   "cell_type": "code",
   "execution_count": null,
   "id": "11ce35c9-ccf8-4fb6-b5f2-dfda720d6553",
   "metadata": {},
   "outputs": [],
   "source": [
    "#Decision: remove customers with 0 longevity\n",
    "data.drop(index = data.loc[data['customer_longevity'] == '0', :].index, inplace = True)"
   ]
  },
  {
   "cell_type": "code",
   "execution_count": null,
   "id": "6ee65cc6",
   "metadata": {},
   "outputs": [],
   "source": [
    "#Summary of MVs in each column\n",
    "mvs_summary = pd.DataFrame({'freq' : np.sum(data.isnull(), axis = 0)})\n",
    "mvs_summary['pct'] = round(mvs_summary['freq'] / data.shape[0] * 100, 1)\n",
    "mvs_summary.sort_values(by = 'pct', ascending = False)"
   ]
  },
  {
   "cell_type": "code",
   "execution_count": null,
   "id": "cbde502a",
   "metadata": {},
   "outputs": [],
   "source": [
    "#Step 3: Diagnose the randomness of the MVs processes\n",
    "#Create a list of conditions\n",
    "conditions = [data['customer_satisfaction_score'].isnull(), data['customer_satisfaction_score'].notnull()]\n",
    "#Create a list of the values needed to assign for each condition\n",
    "values = [1, 0]\n",
    "#Create a new column and use np.select to assign values to it using the lists as arguments\n",
    "data['if_null'] = np.select(conditions, values)\n",
    "data.tail()"
   ]
  },
  {
   "cell_type": "code",
   "execution_count": null,
   "id": "688faf1c",
   "metadata": {},
   "outputs": [],
   "source": [
    "#Evaluate the randomness of the MVs in customer_satisfaction_score from age perspective\n",
    "data.groupby(by = 'if_null')['age'].mean()"
   ]
  },
  {
   "cell_type": "code",
   "execution_count": null,
   "id": "37b4c637",
   "metadata": {},
   "outputs": [],
   "source": [
    "#Box plot for evaluating the randomness of the MVs in customer_satisfaction_score from age perspective\n",
    "plt.boxplot([data.loc[data['if_null'] == 0, 'age'],\n",
    "             data.loc[data['if_null'] == 1, 'age']])\n",
    "plt.xticks(ticks = [1, 2], labels = [0, 1])\n",
    "plt.title('MVs in customer satisfaction score \\n from age perspective')\n",
    "plt.show()"
   ]
  },
  {
   "cell_type": "code",
   "execution_count": null,
   "id": "13390d06",
   "metadata": {},
   "outputs": [],
   "source": [
    "#Evaluate the randomness of the MVs in customer_satisfaction_score from gender perspective\n",
    "#Cross tabulation analysis\n",
    "cross_tab_pct = round(pd.crosstab(data['gender'], data['if_null'], normalize = 'index'), 2)\n",
    "cross_tab_pct"
   ]
  },
  {
   "cell_type": "code",
   "execution_count": null,
   "id": "e1279e67-46ad-4500-aaf1-5d3eda5625dd",
   "metadata": {},
   "outputs": [],
   "source": [
    "#Evaluate the randomness of the MVs in customer_satisfaction_score from customer_longevity perspective\n",
    "#Cross tabulation analysis\n",
    "cross_tab_pct = round(pd.crosstab(data['customer_longevity'], data['if_null'], normalize = 'index'), 2)\n",
    "cross_tab_pct"
   ]
  },
  {
   "cell_type": "code",
   "execution_count": null,
   "id": "8e1f6a57",
   "metadata": {},
   "outputs": [],
   "source": [
    "#Remove temporary variables: mvs and if_null\n",
    "data.drop(columns = ['mvs', 'if_null'], inplace = True)\n",
    "data.head()"
   ]
  },
  {
   "cell_type": "code",
   "execution_count": null,
   "id": "a1d7b567-a393-4c80-8dc1-4ea13713e112",
   "metadata": {},
   "outputs": [],
   "source": [
    "#Get Shape\n",
    "data.shape"
   ]
  },
  {
   "cell_type": "code",
   "execution_count": null,
   "id": "d8a65cc7",
   "metadata": {},
   "outputs": [],
   "source": [
    "#Step 4: Select the imputation method\n",
    "#Method 1: complete case approach\n",
    "data_complete_case = data.dropna(axis = 0, inplace = False)\n",
    "print(data_complete_case.shape)\n",
    "np.sum(data_complete_case.isnull(), axis = 0)"
   ]
  },
  {
   "cell_type": "code",
   "execution_count": null,
   "id": "26601d44",
   "metadata": {},
   "outputs": [],
   "source": [
    "#Method 2: mean substitution\n",
    "data_mean_sub = data.copy()\n",
    "#Substiude NAs w/ mean of each column\n",
    "data_mean_sub.iloc[:, 4 : ] = data_mean_sub.iloc[:, 4 : ].fillna(data_mean_sub.iloc[:, 4 : ].mean())\n",
    "print(data_mean_sub.shape)\n",
    "np.sum(data_mean_sub.isnull(), axis = 0)"
   ]
  },
  {
   "cell_type": "code",
   "execution_count": null,
   "id": "4ec8b30f-511b-4713-b4ae-a489ab02c94e",
   "metadata": {},
   "outputs": [],
   "source": [
    "#Data preparation for MICE \n",
    "data_mice_imputation = data.iloc[:, 1 :].reset_index(drop = True).copy()\n",
    "#Convert object columns to category data type\n",
    "data_mice_imputation['gender'] = data_mice_imputation['gender'].astype('category')\n",
    "data_mice_imputation['customer_longevity'] = data_mice_imputation['customer_longevity'].astype('category')"
   ]
  },
  {
   "cell_type": "code",
   "execution_count": null,
   "id": "b670a8a2",
   "metadata": {},
   "outputs": [],
   "source": [
    "#Method 3: MICE\n",
    "#%pip install miceforest \n",
    "from miceforest import ImputationKernel #It uses lightgbm as a backend\n",
    "\n",
    "mice_kernel = ImputationKernel(data = data_mice_imputation, \n",
    "                               random_state = 123)\n",
    "#Run the kernel on the data for 10 iterations\n",
    "mice_kernel.mice(10)\n",
    "#Create the imputed data\n",
    "data_mice_imputation = mice_kernel.complete_data()\n",
    "print(data_mice_imputation.shape)\n",
    "np.sum(data_mice_imputation.isnull(), axis = 0)"
   ]
  },
  {
   "cell_type": "code",
   "execution_count": null,
   "id": "9d85c82b",
   "metadata": {},
   "outputs": [],
   "source": [
    "#Step 5: correlation analysis\n",
    "#Method 1: complete case approach\n",
    "corr_complete_case = round(data_complete_case.iloc[:, 4 : ].corr(), 2)\n",
    "corr_complete_case"
   ]
  },
  {
   "cell_type": "code",
   "execution_count": null,
   "id": "fc28ce62",
   "metadata": {},
   "outputs": [],
   "source": [
    "#Method 2: mean substitution\n",
    "corr_mean_sub = round(data_mean_sub.iloc[:, 4 : ].corr(), 2)\n",
    "corr_mean_sub"
   ]
  },
  {
   "cell_type": "code",
   "execution_count": null,
   "id": "d0e59574",
   "metadata": {},
   "outputs": [],
   "source": [
    "#Method 3: MICE\n",
    "corr_mice_imputation = round(data_mice_imputation.iloc[:, 3 : ].corr(), 2)\n",
    "corr_mice_imputation"
   ]
  },
  {
   "cell_type": "code",
   "execution_count": null,
   "id": "3319e771-b92f-4f8e-bfab-1f2d5e08b2c1",
   "metadata": {},
   "outputs": [],
   "source": [
    "#Final correlation table\n",
    "corr_table = round((corr_complete_case + corr_mean_sub + corr_mice_imputation) / 3, 2)\n",
    "corr_table"
   ]
  },
  {
   "cell_type": "code",
   "execution_count": null,
   "id": "b799175d",
   "metadata": {},
   "outputs": [],
   "source": [
    "#Summary\n",
    "#   The missing data process is MCAR\n",
    "#   Imputation is the most logical course of action\n",
    "#   Correlations differ slightly across imputation techniques"
   ]
  },
  {
   "cell_type": "markdown",
   "id": "9a1d6f7c",
   "metadata": {},
   "source": [
    "## Outliers"
   ]
  },
  {
   "cell_type": "markdown",
   "id": "e3767107",
   "metadata": {},
   "source": [
    "Problems w/ Outliers:\n",
    "    \n",
    "    #1: can have a marked effect on any type of empirical analysis\n",
    "\n",
    "    #2: how representative the outlier is of the population\n",
    "\n",
    "Sources of their uniqueness:\n",
    "     \n",
    "     procedural error\n",
    "     \n",
    "     extraordinary event\n",
    "     \n",
    "     extraordinary observations\n",
    "    \n",
    "     unique in combination of values across the variables"
   ]
  },
  {
   "cell_type": "code",
   "execution_count": null,
   "id": "6a4ec8e8",
   "metadata": {},
   "outputs": [],
   "source": [
    "#Problem of Masking\n",
    "import numpy as np\n",
    "x = np.array([2, 2, 2, 2, 2, 3, 3, 3, 3, 3, 4, 4, 4, 4, 4, 1000])\n",
    "y = np.array([2, 2, 3, 3, 3, 4, 4, 4, 10000, 100000])"
   ]
  },
  {
   "cell_type": "code",
   "execution_count": null,
   "id": "6ea7c0ec",
   "metadata": {},
   "outputs": [],
   "source": [
    "#Classic method for outlier detection\n",
    "#|(x - mean)/ sd| > 3\n",
    "print(abs((x - np.mean(x))/ np.std(x)) > 3)\n",
    "print(abs((y - np.mean(y))/ np.std(y)) > 3)"
   ]
  },
  {
   "cell_type": "code",
   "execution_count": null,
   "id": "b1e1d2c6",
   "metadata": {},
   "outputs": [],
   "source": [
    "#Tukey's method\n",
    "from scipy.stats import iqr\n",
    "#x > q(0.75) + 1.5 * IQR(x)\n",
    "#x < q(0.25) - 1.5 * IQR(x)\n",
    "print(x > np.quantile(x, 0.75) + 1.5 * iqr(x))\n",
    "print(y > np.quantile(y, 0.75) + 1.5 * iqr(y))"
   ]
  },
  {
   "cell_type": "markdown",
   "id": "4b2386d4",
   "metadata": {},
   "source": [
    "# End of Code"
   ]
  }
 ],
 "metadata": {
  "kernelspec": {
   "display_name": "Python 3 (ipykernel)",
   "language": "python",
   "name": "python3"
  },
  "language_info": {
   "codemirror_mode": {
    "name": "ipython",
    "version": 3
   },
   "file_extension": ".py",
   "mimetype": "text/x-python",
   "name": "python",
   "nbconvert_exporter": "python",
   "pygments_lexer": "ipython3",
   "version": "3.12.4"
  }
 },
 "nbformat": 4,
 "nbformat_minor": 5
}
