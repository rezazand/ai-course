{
 "cells": [
  {
   "cell_type": "code",
   "execution_count": 1,
   "id": "fb5c5311-6d73-4aee-9992-fdc026f54fad",
   "metadata": {},
   "outputs": [],
   "source": [
    "import numpy as np\n",
    "import pandas as pd\n",
    "import matplotlib.pyplot as plt"
   ]
  },
  {
   "attachments": {
    "e71d4cfe-8714-4e48-bfbb-86b4f5fade92.png": {
     "image/png": "[encoded data removed]"
    }
   },
   "cell_type": "markdown",
   "id": "2f2b5f96-ef8c-4d33-9763-9e0a34ed65e8",
   "metadata": {},
   "source": [
    "<div dir='rtl'>\n",
    "    *\n",
    "۵\n",
    "در دیتافریم زیر، مقادیر گمشده را با میانگین هر ستون جایگزین و ضریب همبستگی پیرسون بین x و y را برآورد کنید.\n",
    "</div>\n",
    "\n",
    "![HW08-05.png](attachment:e71d4cfe-8714-4e48-bfbb-86b4f5fade92.png)"
   ]
  },
  {
   "cell_type": "code",
   "execution_count": 9,
   "id": "0a3e6cdf-f874-4a98-84b4-918633f08fb1",
   "metadata": {},
   "outputs": [
    {
     "data": {
      "text/html": [
       "<div>\n",
       "<style scoped>\n",
       "    .dataframe tbody tr th:only-of-type {\n",
       "        vertical-align: middle;\n",
       "    }\n",
       "\n",
       "    .dataframe tbody tr th {\n",
       "        vertical-align: top;\n",
       "    }\n",
       "\n",
       "    .dataframe thead th {\n",
       "        text-align: right;\n",
       "    }\n",
       "</style>\n",
       "<table border=\"1\" class=\"dataframe\">\n",
       "  <thead>\n",
       "    <tr style=\"text-align: right;\">\n",
       "      <th></th>\n",
       "      <th>x</th>\n",
       "      <th>y</th>\n",
       "    </tr>\n",
       "  </thead>\n",
       "  <tbody>\n",
       "    <tr>\n",
       "      <th>0</th>\n",
       "      <td>12.1000</td>\n",
       "      <td>0.200000</td>\n",
       "    </tr>\n",
       "    <tr>\n",
       "      <th>1</th>\n",
       "      <td>14.0000</td>\n",
       "      <td>0.410000</td>\n",
       "    </tr>\n",
       "    <tr>\n",
       "      <th>2</th>\n",
       "      <td>11.7625</td>\n",
       "      <td>0.320000</td>\n",
       "    </tr>\n",
       "    <tr>\n",
       "      <th>3</th>\n",
       "      <td>10.0000</td>\n",
       "      <td>0.190000</td>\n",
       "    </tr>\n",
       "    <tr>\n",
       "      <th>4</th>\n",
       "      <td>2.0000</td>\n",
       "      <td>0.050000</td>\n",
       "    </tr>\n",
       "    <tr>\n",
       "      <th>5</th>\n",
       "      <td>23.0000</td>\n",
       "      <td>0.670000</td>\n",
       "    </tr>\n",
       "    <tr>\n",
       "      <th>6</th>\n",
       "      <td>11.7625</td>\n",
       "      <td>0.110000</td>\n",
       "    </tr>\n",
       "    <tr>\n",
       "      <th>7</th>\n",
       "      <td>15.0000</td>\n",
       "      <td>0.320000</td>\n",
       "    </tr>\n",
       "    <tr>\n",
       "      <th>8</th>\n",
       "      <td>7.0000</td>\n",
       "      <td>0.277778</td>\n",
       "    </tr>\n",
       "    <tr>\n",
       "      <th>9</th>\n",
       "      <td>11.0000</td>\n",
       "      <td>0.230000</td>\n",
       "    </tr>\n",
       "  </tbody>\n",
       "</table>\n",
       "</div>"
      ],
      "text/plain": [
       "         x         y\n",
       "0  12.1000  0.200000\n",
       "1  14.0000  0.410000\n",
       "2  11.7625  0.320000\n",
       "3  10.0000  0.190000\n",
       "4   2.0000  0.050000\n",
       "5  23.0000  0.670000\n",
       "6  11.7625  0.110000\n",
       "7  15.0000  0.320000\n",
       "8   7.0000  0.277778\n",
       "9  11.0000  0.230000"
      ]
     },
     "execution_count": 9,
     "metadata": {},
     "output_type": "execute_result"
    }
   ],
   "source": [
    "data=pd.DataFrame({'x':[12.1,14,np.nan,10,2,23,np.nan,15,7,11],'y':[0.2,0.41,0.32,0.19,0.05,0.67,0.11,0.32,np.nan,0.23]})\n",
    "data.x = data.x.fillna(data.x.mean())\n",
    "data.y = data.y.fillna(data.y.mean())\n",
    "data"
   ]
  },
  {
   "cell_type": "code",
   "execution_count": 3,
   "id": "7a624e53-a509-4f2f-9963-170970d470af",
   "metadata": {},
   "outputs": [
    {
     "data": {
      "text/html": [
       "<div>\n",
       "<style scoped>\n",
       "    .dataframe tbody tr th:only-of-type {\n",
       "        vertical-align: middle;\n",
       "    }\n",
       "\n",
       "    .dataframe tbody tr th {\n",
       "        vertical-align: top;\n",
       "    }\n",
       "\n",
       "    .dataframe thead th {\n",
       "        text-align: right;\n",
       "    }\n",
       "</style>\n",
       "<table border=\"1\" class=\"dataframe\">\n",
       "  <thead>\n",
       "    <tr style=\"text-align: right;\">\n",
       "      <th></th>\n",
       "      <th>x</th>\n",
       "      <th>y</th>\n",
       "    </tr>\n",
       "  </thead>\n",
       "  <tbody>\n",
       "    <tr>\n",
       "      <th>x</th>\n",
       "      <td>1.00</td>\n",
       "      <td>0.86</td>\n",
       "    </tr>\n",
       "    <tr>\n",
       "      <th>y</th>\n",
       "      <td>0.86</td>\n",
       "      <td>1.00</td>\n",
       "    </tr>\n",
       "  </tbody>\n",
       "</table>\n",
       "</div>"
      ],
      "text/plain": [
       "      x     y\n",
       "x  1.00  0.86\n",
       "y  0.86  1.00"
      ]
     },
     "execution_count": 3,
     "metadata": {},
     "output_type": "execute_result"
    }
   ],
   "source": [
    "round(data.corr(method='pearson'),2)"
   ]
  },
  {
   "cell_type": "markdown",
   "id": "410c34e2-e1e0-464b-bfa9-4a25b267e460",
   "metadata": {},
   "source": [
    "<div dir='rtl'>\n",
    "    *\n",
    "۶\n",
    "در دیتافریم زیر، از رویکرد Complete Case Approach استفاده و ضریب همبستگی پیرسون بین x و y را برآورد کنید.\n",
    "</div>"
   ]
  },
  {
   "cell_type": "code",
   "execution_count": 4,
   "id": "71ef42a5-a8d8-4fd0-b2d5-bb17416eab68",
   "metadata": {},
   "outputs": [
    {
     "data": {
      "text/html": [
       "<div>\n",
       "<style scoped>\n",
       "    .dataframe tbody tr th:only-of-type {\n",
       "        vertical-align: middle;\n",
       "    }\n",
       "\n",
       "    .dataframe tbody tr th {\n",
       "        vertical-align: top;\n",
       "    }\n",
       "\n",
       "    .dataframe thead th {\n",
       "        text-align: right;\n",
       "    }\n",
       "</style>\n",
       "<table border=\"1\" class=\"dataframe\">\n",
       "  <thead>\n",
       "    <tr style=\"text-align: right;\">\n",
       "      <th></th>\n",
       "      <th>x</th>\n",
       "      <th>y</th>\n",
       "    </tr>\n",
       "  </thead>\n",
       "  <tbody>\n",
       "    <tr>\n",
       "      <th>x</th>\n",
       "      <td>1.000000</td>\n",
       "      <td>0.948309</td>\n",
       "    </tr>\n",
       "    <tr>\n",
       "      <th>y</th>\n",
       "      <td>0.948309</td>\n",
       "      <td>1.000000</td>\n",
       "    </tr>\n",
       "  </tbody>\n",
       "</table>\n",
       "</div>"
      ],
      "text/plain": [
       "          x         y\n",
       "x  1.000000  0.948309\n",
       "y  0.948309  1.000000"
      ]
     },
     "execution_count": 4,
     "metadata": {},
     "output_type": "execute_result"
    }
   ],
   "source": [
    "data=pd.DataFrame({'x':[12.1,14,np.nan,10,2,23,np.nan,15,7,11],'y':[0.2,0.41,0.32,0.19,0.05,0.67,0.11,0.32,np.nan,0.23]})\n",
    "data.dropna(inplace=True)\n",
    "data.corr(method='pearson')"
   ]
  },
  {
   "cell_type": "markdown",
   "id": "767bfc7b-1d17-411c-9c50-bfd744a86f32",
   "metadata": {},
   "source": [
    "<div dir='rtl'>\n",
    "    *\n",
    "۹\n",
    "با استفاده از متد کلاسیک، کدامیک از درایه‌های زیر بعنوان داده پرت شناسایی می‌شود؟\n",
    "\n",
    "200-, 2, 2, 2, 2, 3, 3, 3, 3, 3, 4, 4, 4, 4, 4, 1000, 10000, 100000000 \n",
    "</div>"
   ]
  },
  {
   "cell_type": "code",
   "execution_count": 7,
   "id": "e24be583-4e12-4d3f-b729-03780c733f7a",
   "metadata": {},
   "outputs": [
    {
     "data": {
      "text/plain": [
       "17    100000000\n",
       "dtype: int64"
      ]
     },
     "execution_count": 7,
     "metadata": {},
     "output_type": "execute_result"
    }
   ],
   "source": [
    "data=pd.Series([-200, 2, 2, 2, 2, 3, 3, 3, 3, 3, 4, 4, 4, 4, 4, 1000, 10000, 100000000])\n",
    "data[(abs(data - data.mean())/data.std()) > 3]"
   ]
  },
  {
   "cell_type": "markdown",
   "id": "e4d16935-7cc0-4902-b260-3bf72705ea1b",
   "metadata": {},
   "source": [
    "<div dir='rtl'>\n",
    "    *\n",
    "۱۰\n",
    "با استفاده از متد توکی (Tukey's Method)، کدامیک از درایه‌های زیر بعنوان داده پرت شناسایی می‌شود؟ \n",
    "</div>"
   ]
  },
  {
   "cell_type": "code",
   "execution_count": 8,
   "id": "b417ebe7-d75d-4c75-8365-1413529d9741",
   "metadata": {},
   "outputs": [
    {
     "data": {
      "text/plain": [
       "0          -200\n",
       "15         1000\n",
       "16        10000\n",
       "17    100000000\n",
       "dtype: int64"
      ]
     },
     "execution_count": 8,
     "metadata": {},
     "output_type": "execute_result"
    }
   ],
   "source": [
    "import scipy.stats as st\n",
    "ub = data.quantile(0.75) + 1.5 * st.iqr(data) \n",
    "lb = data.quantile(.25) - 1.5 * st.iqr(data)\n",
    "data[(data>ub) | (data < lb)]"
   ]
  },
  {
   "cell_type": "code",
   "execution_count": null,
   "id": "9e0dee84",
   "metadata": {},
   "outputs": [],
   "source": [
    "from sci"
   ]
  }
 ],
 "metadata": {
  "kernelspec": {
   "display_name": "new-env",
   "language": "python",
   "name": "python3"
  },
  "language_info": {
   "codemirror_mode": {
    "name": "ipython",
    "version": 3
   },
   "file_extension": ".py",
   "mimetype": "text/x-python",
   "name": "python",
   "nbconvert_exporter": "python",
   "pygments_lexer": "ipython3",
   "version": "3.13.5"
  }
 },
 "nbformat": 4,
 "nbformat_minor": 5
}
