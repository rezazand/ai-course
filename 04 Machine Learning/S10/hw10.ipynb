{
 "cells": [
  {
   "cell_type": "code",
   "execution_count": 23,
   "id": "c8bfefe7",
   "metadata": {},
   "outputs": [],
   "source": [
    "import numpy as np\n",
    "import pandas as pd \n",
    "import matplotlib.pyplot as plt"
   ]
  },
  {
   "cell_type": "markdown",
   "id": "0cd51c02",
   "metadata": {},
   "source": [
    "<div dir='rtl'>\n",
    "*\n",
    "۱\n",
    "داده‌های یک نیروگاه تولید برق در بازه 6 ساله در قالب داده‌های آموزش و آزمایش در فایل‌های hw10_train.csv و hw10_test.csv ذخیره شده است. این فایل‌ها در گوگل درایو درس در پوشه S10 موجود است. داده‌ها مربوط به زمانی است که نیروگاه برای کار با حداکثر ظرفیت تنظیم شده است. \n",
    "\n",
    "هدف پیش‌بینی انرژی الکتریکی خالص ساعتی (PE) بر حسب مگاوات ساعت است. برای این منظور متوسط ساعتی دمای محیط (AT) بر حسب سانتی‌گراد، فشار محیط (AP) بر حسب سانتی‌متر جیوه، رطوبت نسبی (RH) بر حسب درصد و فشار گاز خروجی از توربین (V) بر حسب سانتی‌متر جیوه بعنوان متغیرهای پیش‌بینی‌کننده در نظر گرفته شده‌اند.\n",
    "\n",
    "ابتدا تحلیل اکتشافی روی داده‌های آموزش انجام دهید. کدام گزینه درست است؟\n",
    "۱\n",
    "\n",
    "برخی متغیرهای این مسئله از نوع رسته‌ای هستند.\n",
    "۲\n",
    "\n",
    "میانگین متغیر پاسخ 468 است.\n",
    "۳\n",
    "\n",
    "متغیر رطوبت نسبی چولگی به راست دارد.\n",
    "۴\n",
    "\n",
    "ضریب همبستگی پیرسون بین متغیر پاسخ و دمای محیط 95- درصد است.\n",
    "</div>"
   ]
  },
  {
   "cell_type": "code",
   "execution_count": 24,
   "id": "5f0d8831",
   "metadata": {},
   "outputs": [],
   "source": [
    "data = pd.read_csv('hw10_train.csv')"
   ]
  },
  {
   "cell_type": "code",
   "execution_count": 25,
   "id": "ac0c3184",
   "metadata": {},
   "outputs": [
    {
     "data": {
      "text/html": [
       "<div>\n",
       "<style scoped>\n",
       "    .dataframe tbody tr th:only-of-type {\n",
       "        vertical-align: middle;\n",
       "    }\n",
       "\n",
       "    .dataframe tbody tr th {\n",
       "        vertical-align: top;\n",
       "    }\n",
       "\n",
       "    .dataframe thead th {\n",
       "        text-align: right;\n",
       "    }\n",
       "</style>\n",
       "<table border=\"1\" class=\"dataframe\">\n",
       "  <thead>\n",
       "    <tr style=\"text-align: right;\">\n",
       "      <th></th>\n",
       "      <th>AT</th>\n",
       "      <th>V</th>\n",
       "      <th>AP</th>\n",
       "      <th>RH</th>\n",
       "      <th>PE</th>\n",
       "    </tr>\n",
       "  </thead>\n",
       "  <tbody>\n",
       "    <tr>\n",
       "      <th>0</th>\n",
       "      <td>14.96</td>\n",
       "      <td>41.76</td>\n",
       "      <td>1024.07</td>\n",
       "      <td>73.17</td>\n",
       "      <td>463.26</td>\n",
       "    </tr>\n",
       "    <tr>\n",
       "      <th>1</th>\n",
       "      <td>25.18</td>\n",
       "      <td>62.96</td>\n",
       "      <td>1020.04</td>\n",
       "      <td>59.08</td>\n",
       "      <td>444.37</td>\n",
       "    </tr>\n",
       "    <tr>\n",
       "      <th>2</th>\n",
       "      <td>5.11</td>\n",
       "      <td>39.40</td>\n",
       "      <td>1012.16</td>\n",
       "      <td>92.14</td>\n",
       "      <td>488.56</td>\n",
       "    </tr>\n",
       "    <tr>\n",
       "      <th>3</th>\n",
       "      <td>20.86</td>\n",
       "      <td>57.32</td>\n",
       "      <td>1010.24</td>\n",
       "      <td>76.64</td>\n",
       "      <td>446.48</td>\n",
       "    </tr>\n",
       "    <tr>\n",
       "      <th>4</th>\n",
       "      <td>10.82</td>\n",
       "      <td>37.50</td>\n",
       "      <td>1009.23</td>\n",
       "      <td>96.62</td>\n",
       "      <td>473.90</td>\n",
       "    </tr>\n",
       "  </tbody>\n",
       "</table>\n",
       "</div>"
      ],
      "text/plain": [
       "      AT      V       AP     RH      PE\n",
       "0  14.96  41.76  1024.07  73.17  463.26\n",
       "1  25.18  62.96  1020.04  59.08  444.37\n",
       "2   5.11  39.40  1012.16  92.14  488.56\n",
       "3  20.86  57.32  1010.24  76.64  446.48\n",
       "4  10.82  37.50  1009.23  96.62  473.90"
      ]
     },
     "execution_count": 25,
     "metadata": {},
     "output_type": "execute_result"
    }
   ],
   "source": [
    "data.head()"
   ]
  },
  {
   "cell_type": "code",
   "execution_count": 26,
   "id": "9497a367",
   "metadata": {},
   "outputs": [
    {
     "name": "stdout",
     "output_type": "stream",
     "text": [
      "<class 'pandas.core.frame.DataFrame'>\n",
      "RangeIndex: 6500 entries, 0 to 6499\n",
      "Data columns (total 5 columns):\n",
      " #   Column  Non-Null Count  Dtype  \n",
      "---  ------  --------------  -----  \n",
      " 0   AT      6500 non-null   float64\n",
      " 1   V       6500 non-null   float64\n",
      " 2   AP      6500 non-null   float64\n",
      " 3   RH      6500 non-null   float64\n",
      " 4   PE      6500 non-null   float64\n",
      "dtypes: float64(5)\n",
      "memory usage: 254.0 KB\n"
     ]
    }
   ],
   "source": [
    "data.info( )"
   ]
  },
  {
   "cell_type": "markdown",
   "id": "7a3f5bf5",
   "metadata": {},
   "source": [
    "### نتیجه اینکه هیچ یک رسته ای نیستند"
   ]
  },
  {
   "cell_type": "code",
   "execution_count": 27,
   "id": "33e89819",
   "metadata": {},
   "outputs": [
    {
     "data": {
      "text/html": [
       "<div>\n",
       "<style scoped>\n",
       "    .dataframe tbody tr th:only-of-type {\n",
       "        vertical-align: middle;\n",
       "    }\n",
       "\n",
       "    .dataframe tbody tr th {\n",
       "        vertical-align: top;\n",
       "    }\n",
       "\n",
       "    .dataframe thead th {\n",
       "        text-align: right;\n",
       "    }\n",
       "</style>\n",
       "<table border=\"1\" class=\"dataframe\">\n",
       "  <thead>\n",
       "    <tr style=\"text-align: right;\">\n",
       "      <th></th>\n",
       "      <th>AT</th>\n",
       "      <th>V</th>\n",
       "      <th>AP</th>\n",
       "      <th>RH</th>\n",
       "      <th>PE</th>\n",
       "    </tr>\n",
       "  </thead>\n",
       "  <tbody>\n",
       "    <tr>\n",
       "      <th>count</th>\n",
       "      <td>6500.000000</td>\n",
       "      <td>6500.000000</td>\n",
       "      <td>6500.000000</td>\n",
       "      <td>6500.000000</td>\n",
       "      <td>6500.000000</td>\n",
       "    </tr>\n",
       "    <tr>\n",
       "      <th>mean</th>\n",
       "      <td>19.638137</td>\n",
       "      <td>54.283428</td>\n",
       "      <td>1013.298531</td>\n",
       "      <td>73.289809</td>\n",
       "      <td>454.372142</td>\n",
       "    </tr>\n",
       "    <tr>\n",
       "      <th>std</th>\n",
       "      <td>7.425228</td>\n",
       "      <td>12.665468</td>\n",
       "      <td>5.934595</td>\n",
       "      <td>14.594685</td>\n",
       "      <td>17.025481</td>\n",
       "    </tr>\n",
       "    <tr>\n",
       "      <th>min</th>\n",
       "      <td>2.580000</td>\n",
       "      <td>25.360000</td>\n",
       "      <td>993.310000</td>\n",
       "      <td>25.890000</td>\n",
       "      <td>421.570000</td>\n",
       "    </tr>\n",
       "    <tr>\n",
       "      <th>25%</th>\n",
       "      <td>13.507500</td>\n",
       "      <td>41.740000</td>\n",
       "      <td>1009.220000</td>\n",
       "      <td>63.357500</td>\n",
       "      <td>439.860000</td>\n",
       "    </tr>\n",
       "    <tr>\n",
       "      <th>50%</th>\n",
       "      <td>20.410000</td>\n",
       "      <td>52.300000</td>\n",
       "      <td>1013.005000</td>\n",
       "      <td>75.010000</td>\n",
       "      <td>451.390000</td>\n",
       "    </tr>\n",
       "    <tr>\n",
       "      <th>75%</th>\n",
       "      <td>25.670000</td>\n",
       "      <td>66.490000</td>\n",
       "      <td>1017.240000</td>\n",
       "      <td>84.830000</td>\n",
       "      <td>468.507500</td>\n",
       "    </tr>\n",
       "    <tr>\n",
       "      <th>max</th>\n",
       "      <td>37.110000</td>\n",
       "      <td>81.560000</td>\n",
       "      <td>1033.300000</td>\n",
       "      <td>100.160000</td>\n",
       "      <td>495.760000</td>\n",
       "    </tr>\n",
       "  </tbody>\n",
       "</table>\n",
       "</div>"
      ],
      "text/plain": [
       "                AT            V           AP           RH           PE\n",
       "count  6500.000000  6500.000000  6500.000000  6500.000000  6500.000000\n",
       "mean     19.638137    54.283428  1013.298531    73.289809   454.372142\n",
       "std       7.425228    12.665468     5.934595    14.594685    17.025481\n",
       "min       2.580000    25.360000   993.310000    25.890000   421.570000\n",
       "25%      13.507500    41.740000  1009.220000    63.357500   439.860000\n",
       "50%      20.410000    52.300000  1013.005000    75.010000   451.390000\n",
       "75%      25.670000    66.490000  1017.240000    84.830000   468.507500\n",
       "max      37.110000    81.560000  1033.300000   100.160000   495.760000"
      ]
     },
     "execution_count": 27,
     "metadata": {},
     "output_type": "execute_result"
    }
   ],
   "source": [
    "data.describe()"
   ]
  },
  {
   "cell_type": "markdown",
   "id": "fbc40cf1",
   "metadata": {},
   "source": [
    "### میانگین متغیر پاسخ 454.37 است"
   ]
  },
  {
   "cell_type": "code",
   "execution_count": 32,
   "id": "b0d4ab50",
   "metadata": {},
   "outputs": [
    {
     "data": {
      "image/png": "[encoded data removed]",
      "text/plain": [
       "<Figure size 640x480 with 1 Axes>"
      ]
     },
     "metadata": {},
     "output_type": "display_data"
    }
   ],
   "source": [
    "from scipy import stats\n",
    "xp= np.arange(data['RH'].min(),data['RH'].max(),1)\n",
    "plt.hist(data['RH'],density=True)\n",
    "density = stats.gaussian_kde(data['RH'])\n",
    "pdf = density.pdf(xp)\n",
    "plt.plot(xp, pdf, color='r')\n",
    "plt.show()"
   ]
  },
  {
   "cell_type": "markdown",
   "id": "ec295e46",
   "metadata": {},
   "source": [
    "### نتیجه اینکه چولگی به سمت چپ دارد"
   ]
  },
  {
   "cell_type": "code",
   "execution_count": 29,
   "id": "a2ad0572",
   "metadata": {},
   "outputs": [
    {
     "data": {
      "text/html": [
       "<div>\n",
       "<style scoped>\n",
       "    .dataframe tbody tr th:only-of-type {\n",
       "        vertical-align: middle;\n",
       "    }\n",
       "\n",
       "    .dataframe tbody tr th {\n",
       "        vertical-align: top;\n",
       "    }\n",
       "\n",
       "    .dataframe thead th {\n",
       "        text-align: right;\n",
       "    }\n",
       "</style>\n",
       "<table border=\"1\" class=\"dataframe\">\n",
       "  <thead>\n",
       "    <tr style=\"text-align: right;\">\n",
       "      <th></th>\n",
       "      <th>PE</th>\n",
       "      <th>AT</th>\n",
       "    </tr>\n",
       "  </thead>\n",
       "  <tbody>\n",
       "    <tr>\n",
       "      <th>PE</th>\n",
       "      <td>100.0</td>\n",
       "      <td>-95.0</td>\n",
       "    </tr>\n",
       "    <tr>\n",
       "      <th>AT</th>\n",
       "      <td>-95.0</td>\n",
       "      <td>100.0</td>\n",
       "    </tr>\n",
       "  </tbody>\n",
       "</table>\n",
       "</div>"
      ],
      "text/plain": [
       "       PE     AT\n",
       "PE  100.0  -95.0\n",
       "AT  -95.0  100.0"
      ]
     },
     "execution_count": 29,
     "metadata": {},
     "output_type": "execute_result"
    }
   ],
   "source": [
    "round(data[['PE','AT']].corr(method='pearson') * 100)"
   ]
  },
  {
   "cell_type": "markdown",
   "id": "2d07af40",
   "metadata": {},
   "source": [
    "### ضریب همستگی پیرسون -95 درصد است"
   ]
  },
  {
   "cell_type": "markdown",
   "id": "4db9a937",
   "metadata": {},
   "source": [
    "<div dir='rtl'>\n",
    "*\n",
    "۲\n",
    "روی داده‌های آموزش hw10_train.csv یک مدل نزدیکترین همسایه (kNN) بسازید. تعداد همسایه‌ها را 25 قرار دهید. شاخص MSE روی داده‌های آموزش چقدر است؟\n",
    "</div>"
   ]
  },
  {
   "cell_type": "code",
   "execution_count": 33,
   "id": "516f3f88",
   "metadata": {},
   "outputs": [
    {
     "name": "stdout",
     "output_type": "stream",
     "text": [
      "MSE: 16.7\n"
     ]
    }
   ],
   "source": [
    "from sklearn.neighbors import KNeighborsRegressor\n",
    "from sklearn.metrics import mean_squared_error\n",
    "knn = KNeighborsRegressor(n_neighbors=25)\n",
    "\n",
    "X_train = data[['AT','V','AP','RH']]\n",
    "Y_train = data['PE']\n",
    "\n",
    "knn.fit(X_train,Y_train)\n",
    "data['PE_KNN'] = knn.predict(X_train)\n",
    "\n",
    "print(f\"MSE: {mean_squared_error(data['PE'],data['PE_KNN']):.1f}\")"
   ]
  },
  {
   "cell_type": "markdown",
   "id": "2d90a30f",
   "metadata": {},
   "source": [
    "<div dir='rtl'>\n",
    "*\n",
    "۳\n",
    "روی داده‌های آموزش hw10_train.csv یک مدل نزدیکترین همسایه (kNN) بسازید. تعداد همسایه‌ها را 25 قرار دهید. شاخص RMSE روی داده‌های آموزش چقدر است؟\n",
    "</div>"
   ]
  },
  {
   "cell_type": "code",
   "execution_count": 34,
   "id": "26c58f42",
   "metadata": {},
   "outputs": [
    {
     "name": "stdout",
     "output_type": "stream",
     "text": [
      "RMSE: 4.1\n"
     ]
    }
   ],
   "source": [
    "from sklearn.metrics import root_mean_squared_error\n",
    "\n",
    "print(f\"RMSE: {root_mean_squared_error(data['PE'],data['PE_KNN']):.1f}\")"
   ]
  },
  {
   "cell_type": "markdown",
   "id": "7ba9b5d3",
   "metadata": {},
   "source": [
    "<div dir='rtl'>\n",
    "*\n",
    "۴\n",
    "روی داده‌های آموزش hw10_train.csv یک مدل نزدیکترین همسایه (kNN) بسازید. تعداد همسایه‌ها را 25 قرار دهید. شاخص MAE روی داده‌های آموزش چقدر است؟\n",
    "</div>"
   ]
  },
  {
   "cell_type": "code",
   "execution_count": 35,
   "id": "5b143890",
   "metadata": {},
   "outputs": [
    {
     "name": "stdout",
     "output_type": "stream",
     "text": [
      "MAE: 3.1\n"
     ]
    }
   ],
   "source": [
    "from sklearn.metrics import mean_absolute_error\n",
    "\n",
    "print(f\"MAE: {mean_absolute_error(data['PE'],data['PE_KNN']):.1f}\")"
   ]
  },
  {
   "cell_type": "markdown",
   "id": "b073f154",
   "metadata": {},
   "source": [
    "<div dir='rtl'>\n",
    "*\n",
    "۵\n",
    "روی داده‌های آموزش hw10_train.csv یک مدل نزدیکترین همسایه (kNN) بسازید. تعداد همسایه‌ها را 25 قرار دهید. شاخص MAPE روی داده‌های آموزش چند درصد است؟\n",
    "<div>"
   ]
  },
  {
   "cell_type": "code",
   "execution_count": 38,
   "id": "aac0a9d1",
   "metadata": {},
   "outputs": [
    {
     "name": "stdout",
     "output_type": "stream",
     "text": [
      "MAPE: 0.7 %\n"
     ]
    }
   ],
   "source": [
    "from sklearn.metrics import mean_absolute_percentage_error\n",
    "\n",
    "print(f\"MAPE: {mean_absolute_percentage_error(data['PE'],data['PE_KNN'])*100:.1f} %\")"
   ]
  },
  {
   "cell_type": "markdown",
   "id": "c58213a6",
   "metadata": {},
   "source": [
    "<div dir='rtl'>\n",
    "روی داده‌های آموزش hw10_train.csv یک مدل نزدیکترین همسایه (kNN) بسازید. تعداد همسایه‌ها را 50 قرار دهید. شاخص RMSE روی داده‌های آموزش چقدر است؟\n",
    "</div>"
   ]
  },
  {
   "cell_type": "code",
   "execution_count": 39,
   "id": "ff86296f",
   "metadata": {},
   "outputs": [
    {
     "name": "stdout",
     "output_type": "stream",
     "text": [
      "RMSE: 4.4\n"
     ]
    }
   ],
   "source": [
    "knn_50 = KNeighborsRegressor(n_neighbors=50)\n",
    "knn_50.fit(X_train,Y_train)\n",
    "data['PE_KNN_50'] = knn_50.predict(X_train)\n",
    "\n",
    "\n",
    "print(f\"RMSE: {root_mean_squared_error(data['PE'],data['PE_KNN_50']):.1f}\")"
   ]
  },
  {
   "cell_type": "markdown",
   "id": "5de0dc2f",
   "metadata": {},
   "source": [
    "<div dir='rtl'>\n",
    "*\n",
    "۷\n",
    "فراپارامترهای زیر را برای الگوریتم نزدیکترین همسایه درنظر بگیرید.\n",
    "\n",
    "[1, 5, 10, 15, 20, 25, 30, 35, 40, 45, 50]\n",
    "\n",
    "به منظور پیدا کردن بهترین عدد برای فراپارامتر مدل، الگوریتم k-Fold Cross Validation را بکار بگیرید. تعداد پوشه‌ها را 10 در نظر بگیرید. مقدار بهینه فراپارامتر چقدر است؟\n",
    "</div>"
   ]
  },
  {
   "cell_type": "code",
   "execution_count": 69,
   "id": "04de18f9",
   "metadata": {},
   "outputs": [
    {
     "data": {
      "image/png": "[encoded data removed]",
      "text/plain": [
       "<Figure size 640x480 with 1 Axes>"
      ]
     },
     "metadata": {},
     "output_type": "display_data"
    }
   ],
   "source": [
    "from sklearn.model_selection import cross_val_score\n",
    "hp = [1, 5, 10, 15, 20, 25, 30, 35, 40, 45, 50]\n",
    "\n",
    "cv_errors= np.zeros(len(hp))\n",
    "\n",
    "for i in range(len(hp)):\n",
    "    knn = KNeighborsRegressor(n_neighbors=hp[i])\n",
    "    scores = cross_val_score(knn,X_train,Y_train,scoring='neg_root_mean_squared_error', cv=10,n_jobs=-1)\n",
    "    cv_errors[i] = scores.mean()\n",
    "\n",
    "plt.plot(hp,-cv_errors,'o--')\n",
    "plt.plot(hp[np.argmax(cv_errors)],-max(cv_errors),'ro')\n",
    "plt.xticks(ticks=hp)\n",
    "plt.show()"
   ]
  },
  {
   "cell_type": "markdown",
   "id": "b54159e0",
   "metadata": {},
   "source": [
    "<div dir='rtl'>\n",
    "*\n",
    "۸\n",
    "فراپارامترهای زیر را برای الگوریتم نزدیکترین همسایه درنظر بگیرید.\n",
    "\n",
    "[1, 5, 10, 15, 20, 25, 30, 35, 40, 45, 50]\n",
    "\n",
    "به منظور پیدا کردن بهترین عدد برای فراپارامتر مدل، الگوریتم k-Fold Cross Validation را بکار بگیرید. تعداد پوشه‌ها را 10 در نظر بگیرید. مقدار متوسط شاخص RMSE برای حالت بهینه چقدر است؟\n",
    "</div>"
   ]
  },
  {
   "cell_type": "code",
   "execution_count": 71,
   "id": "b9eaceb8",
   "metadata": {},
   "outputs": [
    {
     "name": "stdout",
     "output_type": "stream",
     "text": [
      "mean RMSE for Optimume state:4.01\n"
     ]
    }
   ],
   "source": [
    "print(f\"mean RMSE for Optimume state:{-max(cv_errors):.2f}\")"
   ]
  },
  {
   "cell_type": "markdown",
   "id": "79b08e62",
   "metadata": {},
   "source": [
    "<div dir='rtl'>\n",
    "*\n",
    "۹\n",
    "مدل با بهترین فراپارامتر را روی داده hw10_train.csv، آموزش دهید. سپس برای ارزیابی نهایی، از آن برای پیش‌بینی روی داده آزمایش (hw10_test.csv) استفاده کنید. مقدار شاخص RMSE روی داده آزمایش چقدر است؟\n",
    "</div>"
   ]
  },
  {
   "cell_type": "code",
   "execution_count": 77,
   "id": "9f5995c3",
   "metadata": {},
   "outputs": [
    {
     "name": "stdout",
     "output_type": "stream",
     "text": [
      "RMSE: 4.1\n"
     ]
    }
   ],
   "source": [
    "knn_opt = KNeighborsRegressor(n_neighbors=hp[np.argmax(cv_errors)])\n",
    "\n",
    "knn_opt.fit(X_train,Y_train)\n",
    "\n",
    "test = pd.read_csv('hw10_test.csv')\n",
    "\n",
    "X_test = test.drop(columns=['PE'])\n",
    "Y_test = test['PE']\n",
    "test['predict']= knn_opt.predict(X_test)\n",
    "print(f\"RMSE: {root_mean_squared_error(Y_test,test['predict']):.1f}\")"
   ]
  },
  {
   "cell_type": "markdown",
   "id": "a98faa59",
   "metadata": {},
   "source": [
    "<div dir='rtl'>\n",
    "*\n",
    "۱۰\n",
    "اگر تحت شرایط جدیدی، متوسط ساعتی دمای محیط 22 درجه سانتی‌گراد، فشار محیط 1010.5 سانتی‌متر جیوه، رطوبت نسبی 75 درصد و فشار گاز خروجی از توربین 68.5 سانتی‌متر جیوه باشد، از مدل نهایی استفاده کنید و برآورد انرژی الکتریکی خالص ساعتی را پیش‌بینی کنید.\n",
    "</div>"
   ]
  },
  {
   "cell_type": "code",
   "execution_count": 88,
   "id": "c36f9069",
   "metadata": {},
   "outputs": [
    {
     "name": "stdout",
     "output_type": "stream",
     "text": [
      "441.5\n"
     ]
    }
   ],
   "source": [
    "df = pd.DataFrame([{'AT':22,'V':68.5, 'AP':1010.4, 'RH':75}])\n",
    "print(f\"{knn_opt.predict(df)[0]:.1f}\")"
   ]
  },
  {
   "cell_type": "code",
   "execution_count": null,
   "id": "61239a82",
   "metadata": {},
   "outputs": [],
   "source": []
  }
 ],
 "metadata": {
  "kernelspec": {
   "display_name": "new-env",
   "language": "python",
   "name": "python3"
  },
  "language_info": {
   "codemirror_mode": {
    "name": "ipython",
    "version": 3
   },
   "file_extension": ".py",
   "mimetype": "text/x-python",
   "name": "python",
   "nbconvert_exporter": "python",
   "pygments_lexer": "ipython3",
   "version": "3.13.5"
  }
 },
 "nbformat": 4,
 "nbformat_minor": 5
}
