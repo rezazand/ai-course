{
 "cells": [
  {
   "cell_type": "markdown",
   "id": "c14dffeb",
   "metadata": {},
   "source": [
    "# S03: Functions & Classes"
   ]
  },
  {
   "cell_type": "markdown",
   "id": "98e301a9",
   "metadata": {},
   "source": [
    "## Data Science, Machine Learning and Artificial Intelligence - by Farzad Minooei"
   ]
  },
  {
   "cell_type": "markdown",
   "id": "82c79809",
   "metadata": {},
   "source": [
    "## Basic Math Functions "
   ]
  },
  {
   "cell_type": "code",
   "execution_count": 1,
   "id": "5f70a600",
   "metadata": {},
   "outputs": [],
   "source": [
    "#Import math library\n",
    "import math"
   ]
  },
  {
   "cell_type": "code",
   "execution_count": 3,
   "id": "739b2583",
   "metadata": {},
   "outputs": [
    {
     "data": {
      "text/plain": [
       "5.0"
      ]
     },
     "execution_count": 3,
     "metadata": {},
     "output_type": "execute_result"
    }
   ],
   "source": [
    "math.sqrt(25)"
   ]
  },
  {
   "cell_type": "code",
   "execution_count": 4,
   "id": "a4efaceb",
   "metadata": {},
   "outputs": [
    {
     "data": {
      "text/plain": [
       "2.0"
      ]
     },
     "execution_count": 4,
     "metadata": {},
     "output_type": "execute_result"
    }
   ],
   "source": [
    "#Logarithm of x to the given base\n",
    "math.log(100, 10)"
   ]
  },
  {
   "cell_type": "code",
   "execution_count": 6,
   "id": "ee5b4aed-bff5-4247-a694-6e7a4bcfc60e",
   "metadata": {},
   "outputs": [
    {
     "data": {
      "text/plain": [
       "2.718281828459045"
      ]
     },
     "execution_count": 6,
     "metadata": {},
     "output_type": "execute_result"
    }
   ],
   "source": [
    "#Constant\n",
    "math.e"
   ]
  },
  {
   "cell_type": "code",
   "execution_count": 9,
   "id": "b46d8d4d-5162-4fca-a417-6318bf894d41",
   "metadata": {},
   "outputs": [
    {
     "data": {
      "text/plain": [
       "3.141592653589793"
      ]
     },
     "execution_count": 9,
     "metadata": {},
     "output_type": "execute_result"
    }
   ],
   "source": [
    "#Constant\n",
    "math.pi"
   ]
  },
  {
   "cell_type": "markdown",
   "id": "fc1516e1",
   "metadata": {},
   "source": [
    "## Basic Stat Functions "
   ]
  },
  {
   "cell_type": "code",
   "execution_count": 12,
   "id": "e043e32e",
   "metadata": {},
   "outputs": [],
   "source": [
    "#Import statistics module\n",
    "import statistics as stat"
   ]
  },
  {
   "cell_type": "code",
   "execution_count": 14,
   "id": "1c5e4be4",
   "metadata": {},
   "outputs": [
    {
     "data": {
      "text/plain": [
       "[12.1, 21.0, 13.4, 25.7, 30.1, 12.1, 12.1]"
      ]
     },
     "execution_count": 14,
     "metadata": {},
     "output_type": "execute_result"
    }
   ],
   "source": [
    "l = [12.1, 21.0, 13.4, 25.7, 30.1, 12.1, 12.1]\n",
    "l"
   ]
  },
  {
   "cell_type": "code",
   "execution_count": 16,
   "id": "f6611828",
   "metadata": {},
   "outputs": [
    {
     "data": {
      "text/plain": [
       "18.071428571428573"
      ]
     },
     "execution_count": 16,
     "metadata": {},
     "output_type": "execute_result"
    }
   ],
   "source": [
    "stat.mean(l)"
   ]
  },
  {
   "cell_type": "code",
   "execution_count": 18,
   "id": "d2ed2fb9",
   "metadata": {},
   "outputs": [
    {
     "data": {
      "text/plain": [
       "13.4"
      ]
     },
     "execution_count": 18,
     "metadata": {},
     "output_type": "execute_result"
    }
   ],
   "source": [
    "stat.median(l)"
   ]
  },
  {
   "cell_type": "code",
   "execution_count": 20,
   "id": "f71ca145",
   "metadata": {},
   "outputs": [
    {
     "data": {
      "text/plain": [
       "12.1"
      ]
     },
     "execution_count": 20,
     "metadata": {},
     "output_type": "execute_result"
    }
   ],
   "source": [
    "stat.mode(l)"
   ]
  },
  {
   "cell_type": "code",
   "execution_count": 22,
   "id": "3627dc5b",
   "metadata": {},
   "outputs": [
    {
     "data": {
      "text/plain": [
       "7.530540991127239"
      ]
     },
     "execution_count": 22,
     "metadata": {},
     "output_type": "execute_result"
    }
   ],
   "source": [
    "stat.stdev(l)"
   ]
  },
  {
   "cell_type": "code",
   "execution_count": 24,
   "id": "fbc70b50",
   "metadata": {},
   "outputs": [
    {
     "data": {
      "text/plain": [
       "56.709047619047624"
      ]
     },
     "execution_count": 24,
     "metadata": {},
     "output_type": "execute_result"
    }
   ],
   "source": [
    "stat.variance(l)"
   ]
  },
  {
   "cell_type": "markdown",
   "id": "e5724552",
   "metadata": {},
   "source": [
    "## Functions"
   ]
  },
  {
   "cell_type": "markdown",
   "id": "70e2b124",
   "metadata": {},
   "source": [
    "Create function\n",
    "\n",
    "Example: PV = FV/(1+r) ^ n"
   ]
  },
  {
   "cell_type": "code",
   "execution_count": 28,
   "id": "fbde7a68",
   "metadata": {},
   "outputs": [],
   "source": [
    "def pv1(fv, r, n):\n",
    "    pv = fv / (1 + r) ** n\n",
    "    return pv"
   ]
  },
  {
   "cell_type": "code",
   "execution_count": 30,
   "id": "21d8dff3",
   "metadata": {},
   "outputs": [
    {
     "data": {
      "text/plain": [
       "3276.8"
      ]
     },
     "execution_count": 30,
     "metadata": {},
     "output_type": "execute_result"
    }
   ],
   "source": [
    "pv1(10000, 0.25, 5)"
   ]
  },
  {
   "cell_type": "code",
   "execution_count": 32,
   "id": "4bcc0dfd",
   "metadata": {},
   "outputs": [
    {
     "data": {
      "text/plain": [
       "function"
      ]
     },
     "execution_count": 32,
     "metadata": {},
     "output_type": "execute_result"
    }
   ],
   "source": [
    "type(pv1)"
   ]
  },
  {
   "cell_type": "code",
   "execution_count": 34,
   "id": "b7e808a8",
   "metadata": {},
   "outputs": [
    {
     "data": {
      "text/plain": [
       "3276.8"
      ]
     },
     "execution_count": 34,
     "metadata": {},
     "output_type": "execute_result"
    }
   ],
   "source": [
    "pv1(fv = 10000, r = 0.25, n = 5)"
   ]
  },
  {
   "cell_type": "code",
   "execution_count": 36,
   "id": "a1b56eb6",
   "metadata": {},
   "outputs": [
    {
     "data": {
      "text/plain": [
       "3276.8"
      ]
     },
     "execution_count": 36,
     "metadata": {},
     "output_type": "execute_result"
    }
   ],
   "source": [
    "pv1(n = 5, r = 0.25, fv = 10000)"
   ]
  },
  {
   "cell_type": "code",
   "execution_count": 38,
   "id": "153c95f2",
   "metadata": {},
   "outputs": [
    {
     "ename": "TypeError",
     "evalue": "pv1() missing 1 required positional argument: 'n'",
     "output_type": "error",
     "traceback": [
      "\u001b[1;31m---------------------------------------------------------------------------\u001b[0m",
      "\u001b[1;31mTypeError\u001b[0m                                 Traceback (most recent call last)",
      "Cell \u001b[1;32mIn[38], line 1\u001b[0m\n\u001b[1;32m----> 1\u001b[0m pv1(\u001b[38;5;241m10000\u001b[39m, \u001b[38;5;241m0.25\u001b[39m)\n",
      "\u001b[1;31mTypeError\u001b[0m: pv1() missing 1 required positional argument: 'n'"
     ]
    }
   ],
   "source": [
    "pv1(10000, 0.25) #error"
   ]
  },
  {
   "cell_type": "code",
   "execution_count": 41,
   "id": "9e7a9e43",
   "metadata": {},
   "outputs": [
    {
     "ename": "SyntaxError",
     "evalue": "parameter without a default follows parameter with a default (4052576365.py, line 4)",
     "output_type": "error",
     "traceback": [
      "\u001b[1;36m  Cell \u001b[1;32mIn[41], line 4\u001b[1;36m\u001b[0m\n\u001b[1;33m    def pv2(fv, r = 0.25, n):\u001b[0m\n\u001b[1;37m                          ^\u001b[0m\n\u001b[1;31mSyntaxError\u001b[0m\u001b[1;31m:\u001b[0m parameter without a default follows parameter with a default\n"
     ]
    }
   ],
   "source": [
    "#Arguments w/ default values\n",
    "#Any number of arguments in a function can have a default value. \n",
    "#But once we have a default argument, all the arguments to its right must also have default values.\n",
    "def pv2(fv, r = 0.25, n):\n",
    "    pv = fv / (1 + r) ** n\n",
    "    return pv #error"
   ]
  },
  {
   "cell_type": "code",
   "execution_count": 43,
   "id": "192e2ef4",
   "metadata": {},
   "outputs": [
    {
     "data": {
      "text/plain": [
       "3276.8"
      ]
     },
     "execution_count": 43,
     "metadata": {},
     "output_type": "execute_result"
    }
   ],
   "source": [
    "def pv2(fv, n, r = 0.25):\n",
    "    pv = fv / (1 + r) ** n\n",
    "    return pv\n",
    "\n",
    "pv2(10000, 5)"
   ]
  },
  {
   "cell_type": "markdown",
   "id": "72b35e22",
   "metadata": {},
   "source": [
    "#### Global and Local Variables "
   ]
  },
  {
   "cell_type": "code",
   "execution_count": 46,
   "id": "39b588ff",
   "metadata": {},
   "outputs": [
    {
     "ename": "NameError",
     "evalue": "name 'n' is not defined",
     "output_type": "error",
     "traceback": [
      "\u001b[1;31m---------------------------------------------------------------------------\u001b[0m",
      "\u001b[1;31mNameError\u001b[0m                                 Traceback (most recent call last)",
      "Cell \u001b[1;32mIn[46], line 2\u001b[0m\n\u001b[0;32m      1\u001b[0m \u001b[38;5;66;03m#local variables\u001b[39;00m\n\u001b[1;32m----> 2\u001b[0m n\n",
      "\u001b[1;31mNameError\u001b[0m: name 'n' is not defined"
     ]
    }
   ],
   "source": [
    "#local variables\n",
    "n #error"
   ]
  },
  {
   "cell_type": "code",
   "execution_count": 50,
   "id": "40830329",
   "metadata": {},
   "outputs": [
    {
     "name": "stdout",
     "output_type": "stream",
     "text": [
      "Variable               Type        Data/Info\n",
      "--------------------------------------------\n",
      "dataframe_columns      function    <function dataframe_colum<...>ns at 0x000001B792C46980>\n",
      "dataframe_hash         function    <function dataframe_hash at 0x000001B792C44680>\n",
      "dtypes_str             function    <function dtypes_str at 0x000001B792C463E0>\n",
      "get_dataframes         function    <function get_dataframes at 0x000001B792C46340>\n",
      "getpass                module      <module 'getpass' from 'C<...>conda3\\\\Lib\\\\getpass.py'>\n",
      "hashlib                module      <module 'hashlib' from 'C<...>conda3\\\\Lib\\\\hashlib.py'>\n",
      "import_pandas_safely   function    <function import_pandas_s<...>ly at 0x000001B792C45F80>\n",
      "is_data_frame          function    <function is_data_frame at 0x000001B792C46D40>\n",
      "json                   module      <module 'json' from 'C:\\\\<...>\\Lib\\\\json\\\\__init__.py'>\n",
      "l                      list        n=7\n",
      "math                   module      <module 'math' (built-in)>\n",
      "pv1                    function    <function pv1 at 0x000001B79137F9C0>\n",
      "pv2                    function    <function pv2 at 0x000001B792C46520>\n",
      "pv3                    function    <function pv3 at 0x000001B792C472E0>\n",
      "stat                   module      <module 'statistics' from<...>da3\\\\Lib\\\\statistics.py'>\n"
     ]
    }
   ],
   "source": [
    "%whos"
   ]
  },
  {
   "cell_type": "code",
   "execution_count": 52,
   "id": "46f0d782",
   "metadata": {},
   "outputs": [
    {
     "data": {
      "text/plain": [
       "3276.8"
      ]
     },
     "execution_count": 52,
     "metadata": {},
     "output_type": "execute_result"
    }
   ],
   "source": [
    "def pv3(fv, r = 0.25):\n",
    "    n = 5\n",
    "    pv = fv / (1 + r) ** n\n",
    "    return pv\n",
    "\n",
    "pv3(10000)"
   ]
  },
  {
   "cell_type": "code",
   "execution_count": 54,
   "id": "bbf1cc81",
   "metadata": {},
   "outputs": [
    {
     "data": {
      "text/plain": [
       "3276.8"
      ]
     },
     "execution_count": 54,
     "metadata": {},
     "output_type": "execute_result"
    }
   ],
   "source": [
    "n = 5\n",
    "def pv4(fv, r = 0.25):\n",
    "    pv = fv / (1 + r) ** n\n",
    "    return pv\n",
    "\n",
    "pv4(10000)"
   ]
  },
  {
   "cell_type": "markdown",
   "id": "233095a6",
   "metadata": {},
   "source": [
    "### Lambda Functions"
   ]
  },
  {
   "cell_type": "code",
   "execution_count": 57,
   "id": "c394e40e",
   "metadata": {},
   "outputs": [
    {
     "data": {
      "text/plain": [
       "4"
      ]
     },
     "execution_count": 57,
     "metadata": {},
     "output_type": "execute_result"
    }
   ],
   "source": [
    "(lambda x: x ** 2)(2)"
   ]
  },
  {
   "cell_type": "markdown",
   "id": "e2355ee6",
   "metadata": {},
   "source": [
    "### Example: A coin toss simulation"
   ]
  },
  {
   "cell_type": "markdown",
   "id": "240e5cab",
   "metadata": {},
   "source": [
    "Simulate a coin toss experiment in which you flip a fair coin until three heads come up and then the experiment stops. "
   ]
  },
  {
   "cell_type": "code",
   "execution_count": 59,
   "id": "6c05f0a0",
   "metadata": {},
   "outputs": [
    {
     "data": {
      "text/plain": [
       "['H']"
      ]
     },
     "execution_count": 59,
     "metadata": {},
     "output_type": "execute_result"
    }
   ],
   "source": [
    "#Random sampling \n",
    "import random as rm\n",
    "rm.sample(['T', 'H'], 1)"
   ]
  },
  {
   "cell_type": "code",
   "execution_count": 61,
   "id": "20f7540c",
   "metadata": {},
   "outputs": [
    {
     "data": {
      "text/plain": [
       "3"
      ]
     },
     "execution_count": 61,
     "metadata": {},
     "output_type": "execute_result"
    }
   ],
   "source": [
    "#while in simulation\n",
    "flips = 0\n",
    "nheads = 0\n",
    "while nheads < 3:\n",
    "    flips += 1    \n",
    "    if rm.sample(['T', 'H'], 1)[0] == 'H':\n",
    "        nheads += 1\n",
    "\n",
    "flips"
   ]
  },
  {
   "cell_type": "markdown",
   "id": "ed612a2a",
   "metadata": {},
   "source": [
    "### Example: Newton-Raphson Method"
   ]
  },
  {
   "cell_type": "markdown",
   "id": "ce6df605",
   "metadata": {},
   "source": [
    "https://en.wikipedia.org/wiki/Newton%27s_method\n",
    "\n",
    "Solve f(x) = 0\n",
    "\n",
    "f(x) = 4 * ln(x) - x"
   ]
  },
  {
   "cell_type": "code",
   "execution_count": 65,
   "id": "f24f3f58",
   "metadata": {},
   "outputs": [],
   "source": [
    "#Define function\n",
    "import math\n",
    "\n",
    "def f(x):\n",
    "    return 4 * math.log(x) - x\n",
    "    \n",
    "def g(x):\n",
    "    return 4 / x - 1"
   ]
  },
  {
   "cell_type": "code",
   "execution_count": 67,
   "id": "48726d08",
   "metadata": {},
   "outputs": [],
   "source": [
    "#Initial value\n",
    "x0 = 0.5"
   ]
  },
  {
   "cell_type": "code",
   "execution_count": 69,
   "id": "4498e1e0",
   "metadata": {},
   "outputs": [],
   "source": [
    "#Save all values \n",
    "all_x = [x0]"
   ]
  },
  {
   "cell_type": "code",
   "execution_count": 71,
   "id": "969b6205",
   "metadata": {},
   "outputs": [],
   "source": [
    "#Newton-Raphson algorithm\n",
    "delta = 1\n",
    "while delta > 0.0001:\n",
    "    x1 = x0 - f(x0) / g(x0)\n",
    "    all_x.append(x1)\n",
    "    delta = abs(x1 - x0)\n",
    "    x0 = x1"
   ]
  },
  {
   "cell_type": "code",
   "execution_count": 73,
   "id": "a2037de8",
   "metadata": {},
   "outputs": [
    {
     "data": {
      "text/plain": [
       "[0.5,\n",
       " 0.967512674605683,\n",
       " 1.3183454639828363,\n",
       " 1.4229788501445464,\n",
       " 1.4295879035094685,\n",
       " 1.429611824414113]"
      ]
     },
     "execution_count": 73,
     "metadata": {},
     "output_type": "execute_result"
    }
   ],
   "source": [
    "all_x"
   ]
  },
  {
   "cell_type": "code",
   "execution_count": 75,
   "id": "6e0d7037",
   "metadata": {},
   "outputs": [
    {
     "data": {
      "text/plain": [
       "-5.599620767071656e-10"
      ]
     },
     "execution_count": 75,
     "metadata": {},
     "output_type": "execute_result"
    }
   ],
   "source": [
    "f(all_x[-1])"
   ]
  },
  {
   "cell_type": "markdown",
   "id": "24702b6c",
   "metadata": {},
   "source": [
    "## Classes and Objects"
   ]
  },
  {
   "cell_type": "markdown",
   "id": "e29c00c9",
   "metadata": {},
   "source": [
    "Programming Paradigm:\n",
    "\n",
    "https://en.wikipedia.org/wiki/Programming_paradigm\n",
    "\n",
    "\n",
    "Object Oriented Programming:\n",
    "\n",
    "Examples:  Java, C++, C#, Python, R, PHP, JavaScript, and MATLAB\n",
    "\n",
    "Everything in Python is an object.\n",
    "\n",
    "An object is a data structure having some attributes and methods which act on its attributes.\n",
    "\n",
    "Class is a blueprint for the object."
   ]
  },
  {
   "cell_type": "code",
   "execution_count": 79,
   "id": "f7e6f583",
   "metadata": {},
   "outputs": [],
   "source": [
    "#Rocket simulates a rocket ship for a game\n",
    "class Rocket():        \n",
    "    \n",
    "    def __init__(self):\n",
    "        #Each rocket has an (x,y) position.\n",
    "        self.x = 0\n",
    "        self.y = 0"
   ]
  },
  {
   "cell_type": "code",
   "execution_count": 81,
   "id": "69fe435c",
   "metadata": {},
   "outputs": [],
   "source": [
    "rocket1 = Rocket()"
   ]
  },
  {
   "cell_type": "code",
   "execution_count": 83,
   "id": "f152dc11",
   "metadata": {},
   "outputs": [
    {
     "data": {
      "text/plain": [
       "__main__.Rocket"
      ]
     },
     "execution_count": 83,
     "metadata": {},
     "output_type": "execute_result"
    }
   ],
   "source": [
    "type(rocket1)"
   ]
  },
  {
   "cell_type": "code",
   "execution_count": 85,
   "id": "1b0fdeae",
   "metadata": {},
   "outputs": [
    {
     "data": {
      "text/plain": [
       "0"
      ]
     },
     "execution_count": 85,
     "metadata": {},
     "output_type": "execute_result"
    }
   ],
   "source": [
    "rocket1.x"
   ]
  },
  {
   "cell_type": "code",
   "execution_count": 87,
   "id": "f58acd7c",
   "metadata": {},
   "outputs": [],
   "source": [
    "#Rocket simulates a rocket ship for a game\n",
    "class Rocket():        \n",
    "    \n",
    "    def __init__(self):\n",
    "        #Each rocket has an (x,y) position.\n",
    "        self.x = 0\n",
    "        self.y = 0\n",
    "        \n",
    "    def move(self):\n",
    "        #Increment the y-position of the rocket.\n",
    "        self.y += 1"
   ]
  },
  {
   "cell_type": "code",
   "execution_count": 89,
   "id": "177b89de",
   "metadata": {},
   "outputs": [],
   "source": [
    "rocket2 = Rocket()"
   ]
  },
  {
   "cell_type": "code",
   "execution_count": 91,
   "id": "d8deb20d",
   "metadata": {},
   "outputs": [
    {
     "name": "stdout",
     "output_type": "stream",
     "text": [
      "Rocket altitude: 0\n"
     ]
    }
   ],
   "source": [
    "print('Rocket altitude:', rocket2.y)"
   ]
  },
  {
   "cell_type": "code",
   "execution_count": 93,
   "id": "8afa3bfe",
   "metadata": {},
   "outputs": [
    {
     "name": "stdout",
     "output_type": "stream",
     "text": [
      "Rocket altitude: 1\n"
     ]
    }
   ],
   "source": [
    "rocket2.move()\n",
    "print('Rocket altitude:', rocket2.y)"
   ]
  },
  {
   "cell_type": "code",
   "execution_count": 95,
   "id": "45acdb87",
   "metadata": {},
   "outputs": [
    {
     "name": "stdout",
     "output_type": "stream",
     "text": [
      "Rocket altitude: 2\n"
     ]
    }
   ],
   "source": [
    "rocket2.move()\n",
    "print('Rocket altitude:', rocket2.y)"
   ]
  },
  {
   "cell_type": "markdown",
   "id": "5adb9ba0",
   "metadata": {},
   "source": [
    "### General Terminology\n",
    "\n",
    "A class is a body of code that defines the attributes and behaviors\n",
    "\n",
    "An attribute is a piece of information. In code, an attribute is just a variable that is part of a class.\n",
    "\n",
    "A behavior is an action that is defined within a class. These are made up of methods, which are just functions that are defined for the class.\n",
    "\n",
    "An object is a particular instance of a class. An object has a certain set of values for all of the attributes (variables) in the class."
   ]
  },
  {
   "cell_type": "code",
   "execution_count": 98,
   "id": "1888ab41",
   "metadata": {},
   "outputs": [],
   "source": [
    "#Rocket simulates a rocket ship for a game\n",
    "class Rocket():        \n",
    "    \n",
    "    def __init__(self, x = 0, y = 0):\n",
    "        #Each rocket has an (x,y) position.\n",
    "        self.x = x\n",
    "        self.y = y\n",
    "        \n",
    "    def move(self, delta_x = 0, delta_y = 1):\n",
    "        #Increment the x and y position of the rocket.\n",
    "        self.x += delta_x\n",
    "        self.y += delta_y\n",
    "        \n",
    "    def get_distance(self, point):\n",
    "        #calculate the distance of the current rocket posotion from specific point\n",
    "        distance = ((self.x - point[0]) ** 2 + (self.y - point[1]) ** 2) ** 0.5\n",
    "        return distance    "
   ]
  },
  {
   "cell_type": "code",
   "execution_count": 100,
   "id": "1837b70f",
   "metadata": {},
   "outputs": [
    {
     "data": {
      "text/plain": [
       "-1"
      ]
     },
     "execution_count": 100,
     "metadata": {},
     "output_type": "execute_result"
    }
   ],
   "source": [
    "rocket3 = Rocket(x = -1, y = 0)\n",
    "rocket3.x"
   ]
  },
  {
   "cell_type": "code",
   "execution_count": 102,
   "id": "f185a301",
   "metadata": {},
   "outputs": [
    {
     "name": "stdout",
     "output_type": "stream",
     "text": [
      "The coordinates of the rocket3 is: x = 0 and y = 5\n"
     ]
    }
   ],
   "source": [
    "rocket3.move(1, 5)\n",
    "print('The coordinates of the rocket3 is: x = {} and y = {}'.format(rocket3.x, rocket3.y))"
   ]
  },
  {
   "cell_type": "code",
   "execution_count": 104,
   "id": "18892681",
   "metadata": {},
   "outputs": [
    {
     "data": {
      "text/plain": [
       "4.123105625617661"
      ]
     },
     "execution_count": 104,
     "metadata": {},
     "output_type": "execute_result"
    }
   ],
   "source": [
    "dist = rocket3.get_distance((1, 1))\n",
    "dist"
   ]
  },
  {
   "cell_type": "markdown",
   "id": "b97c36f6",
   "metadata": {},
   "source": [
    "### Save Classes as a Module"
   ]
  },
  {
   "cell_type": "code",
   "execution_count": 107,
   "id": "2d2d734a",
   "metadata": {},
   "outputs": [
    {
     "name": "stdout",
     "output_type": "stream",
     "text": [
      "Variable               Type        Data/Info\n",
      "--------------------------------------------\n",
      "Rocket                 type        <class '__main__.Rocket'>\n",
      "all_x                  list        n=6\n",
      "dataframe_columns      function    <function dataframe_colum<...>ns at 0x000001B792C46E80>\n",
      "dataframe_hash         function    <function dataframe_hash at 0x000001B792C47880>\n",
      "delta                  float       2.3920904644425534e-05\n",
      "dist                   float       4.123105625617661\n",
      "dtypes_str             function    <function dtypes_str at 0x000001B792C47D80>\n",
      "f                      function    <function f at 0x000001B792C46B60>\n",
      "flips                  int         3\n",
      "g                      function    <function g at 0x000001B792C46480>\n",
      "get_dataframes         function    <function get_dataframes at 0x000001B792C46A20>\n",
      "getpass                module      <module 'getpass' from 'C<...>conda3\\\\Lib\\\\getpass.py'>\n",
      "hashlib                module      <module 'hashlib' from 'C<...>conda3\\\\Lib\\\\hashlib.py'>\n",
      "import_pandas_safely   function    <function import_pandas_s<...>ly at 0x000001B792C47060>\n",
      "is_data_frame          function    <function is_data_frame at 0x000001B792C47BA0>\n",
      "json                   module      <module 'json' from 'C:\\\\<...>\\Lib\\\\json\\\\__init__.py'>\n",
      "l                      list        n=7\n",
      "math                   module      <module 'math' (built-in)>\n",
      "n                      int         5\n",
      "nheads                 int         3\n",
      "pv1                    function    <function pv1 at 0x000001B79137F9C0>\n",
      "pv2                    function    <function pv2 at 0x000001B792C46520>\n",
      "pv3                    function    <function pv3 at 0x000001B792C46660>\n",
      "pv4                    function    <function pv4 at 0x000001B792C47A60>\n",
      "rm                     module      <module 'random' from 'C:<...>aconda3\\\\Lib\\\\random.py'>\n",
      "rocket1                Rocket      <__main__.Rocket object at 0x000001B793E1E390>\n",
      "rocket2                Rocket      <__main__.Rocket object at 0x000001B792285AC0>\n",
      "rocket3                Rocket      <__main__.Rocket object at 0x000001B793E1BF50>\n",
      "stat                   module      <module 'statistics' from<...>da3\\\\Lib\\\\statistics.py'>\n",
      "x0                     float       1.429611824414113\n",
      "x1                     float       1.429611824414113\n"
     ]
    }
   ],
   "source": [
    "%whos"
   ]
  },
  {
   "cell_type": "code",
   "execution_count": 109,
   "id": "5924de90",
   "metadata": {},
   "outputs": [],
   "source": [
    "del Rocket"
   ]
  },
  {
   "cell_type": "code",
   "execution_count": 111,
   "id": "fa07c339",
   "metadata": {},
   "outputs": [
    {
     "name": "stdout",
     "output_type": "stream",
     "text": [
      "Variable               Type        Data/Info\n",
      "--------------------------------------------\n",
      "all_x                  list        n=6\n",
      "dataframe_columns      function    <function dataframe_colum<...>ns at 0x000001B792C47060>\n",
      "dataframe_hash         function    <function dataframe_hash at 0x000001B792C46E80>\n",
      "delta                  float       2.3920904644425534e-05\n",
      "dist                   float       4.123105625617661\n",
      "dtypes_str             function    <function dtypes_str at 0x000001B792C47BA0>\n",
      "f                      function    <function f at 0x000001B792C46B60>\n",
      "flips                  int         3\n",
      "g                      function    <function g at 0x000001B792C46480>\n",
      "get_dataframes         function    <function get_dataframes at 0x000001B792C47D80>\n",
      "getpass                module      <module 'getpass' from 'C<...>conda3\\\\Lib\\\\getpass.py'>\n",
      "hashlib                module      <module 'hashlib' from 'C<...>conda3\\\\Lib\\\\hashlib.py'>\n",
      "import_pandas_safely   function    <function import_pandas_s<...>ly at 0x000001B792C46D40>\n",
      "is_data_frame          function    <function is_data_frame at 0x000001B792C47600>\n",
      "json                   module      <module 'json' from 'C:\\\\<...>\\Lib\\\\json\\\\__init__.py'>\n",
      "l                      list        n=7\n",
      "math                   module      <module 'math' (built-in)>\n",
      "n                      int         5\n",
      "nheads                 int         3\n",
      "pv1                    function    <function pv1 at 0x000001B79137F9C0>\n",
      "pv2                    function    <function pv2 at 0x000001B792C46520>\n",
      "pv3                    function    <function pv3 at 0x000001B792C46660>\n",
      "pv4                    function    <function pv4 at 0x000001B792C47A60>\n",
      "rm                     module      <module 'random' from 'C:<...>aconda3\\\\Lib\\\\random.py'>\n",
      "rocket1                Rocket      <__main__.Rocket object at 0x000001B793E1E390>\n",
      "rocket2                Rocket      <__main__.Rocket object at 0x000001B792285AC0>\n",
      "rocket3                Rocket      <__main__.Rocket object at 0x000001B793E1BF50>\n",
      "stat                   module      <module 'statistics' from<...>da3\\\\Lib\\\\statistics.py'>\n",
      "x0                     float       1.429611824414113\n",
      "x1                     float       1.429611824414113\n"
     ]
    }
   ],
   "source": [
    "%whos"
   ]
  },
  {
   "cell_type": "code",
   "execution_count": 113,
   "id": "f5ac4dc5",
   "metadata": {},
   "outputs": [
    {
     "ename": "NameError",
     "evalue": "name 'Rocket' is not defined",
     "output_type": "error",
     "traceback": [
      "\u001b[1;31m---------------------------------------------------------------------------\u001b[0m",
      "\u001b[1;31mNameError\u001b[0m                                 Traceback (most recent call last)",
      "Cell \u001b[1;32mIn[113], line 1\u001b[0m\n\u001b[1;32m----> 1\u001b[0m rocket4 \u001b[38;5;241m=\u001b[39m Rocket(\u001b[38;5;241m0\u001b[39m, \u001b[38;5;241m2\u001b[39m)\n",
      "\u001b[1;31mNameError\u001b[0m: name 'Rocket' is not defined"
     ]
    }
   ],
   "source": [
    "rocket4 = Rocket(0, 2) #error"
   ]
  },
  {
   "cell_type": "code",
   "execution_count": 115,
   "id": "87fda5ed",
   "metadata": {},
   "outputs": [],
   "source": [
    "#Save as rocket.py\n",
    "from rocket import Rocket"
   ]
  },
  {
   "cell_type": "code",
   "execution_count": 117,
   "id": "4e03b3f7",
   "metadata": {},
   "outputs": [
    {
     "name": "stdout",
     "output_type": "stream",
     "text": [
      "0\n",
      "2\n"
     ]
    }
   ],
   "source": [
    "rocket4 = Rocket(0, 2)\n",
    "print(rocket4.x)\n",
    "print(rocket4.y)"
   ]
  },
  {
   "cell_type": "markdown",
   "id": "6864afe0",
   "metadata": {},
   "source": [
    "## Python List Methods"
   ]
  },
  {
   "cell_type": "markdown",
   "id": "9041d28a",
   "metadata": {},
   "source": [
    "    append()    Adds an element at the end of the list\n",
    "\n",
    "    clear()\t    Removes all the elements from the list\n",
    "\n",
    "    copy()\t    Returns a copy of the list\n",
    "\n",
    "    count()     Returns the number of elements with the specified value\n",
    "\n",
    "    extend()    Add the elements of a list (or any iterable), to the end of the current list\n",
    "\n",
    "    index()     Returns the index of the first element with the specified value\n",
    "\n",
    "    insert()    Adds an element at the specified position\n",
    "\n",
    "    pop()       Removes the element at the specified position\n",
    "\n",
    "    remove()    Removes the first item with the specified value\n",
    "\n",
    "    reverse()   Reverses the order of the list\n",
    "\n",
    "    sort()      Sorts the list"
   ]
  },
  {
   "cell_type": "code",
   "execution_count": 121,
   "id": "3f16ae1f",
   "metadata": {},
   "outputs": [
    {
     "data": {
      "text/plain": [
       "['c', 'a', 'e', 'd', 'b', 'a']"
      ]
     },
     "execution_count": 121,
     "metadata": {},
     "output_type": "execute_result"
    }
   ],
   "source": [
    "l1 = ['c', 'a', 'e', 'd', 'b', 'a']\n",
    "l1"
   ]
  },
  {
   "cell_type": "code",
   "execution_count": 123,
   "id": "9b4cf008",
   "metadata": {},
   "outputs": [
    {
     "data": {
      "text/plain": [
       "list"
      ]
     },
     "execution_count": 123,
     "metadata": {},
     "output_type": "execute_result"
    }
   ],
   "source": [
    "type(l1)"
   ]
  },
  {
   "cell_type": "code",
   "execution_count": 125,
   "id": "20b0e80b",
   "metadata": {},
   "outputs": [
    {
     "data": {
      "text/plain": [
       "0"
      ]
     },
     "execution_count": 125,
     "metadata": {},
     "output_type": "execute_result"
    }
   ],
   "source": [
    "l1.index('c')"
   ]
  },
  {
   "cell_type": "code",
   "execution_count": 127,
   "id": "7baef4e8",
   "metadata": {},
   "outputs": [
    {
     "data": {
      "text/plain": [
       "['c', 'a', 'e', 'd', 'b', 'a', 'a']"
      ]
     },
     "execution_count": 127,
     "metadata": {},
     "output_type": "execute_result"
    }
   ],
   "source": [
    "l1.append('a')\n",
    "l1"
   ]
  },
  {
   "cell_type": "code",
   "execution_count": 129,
   "id": "c0089a4f",
   "metadata": {},
   "outputs": [],
   "source": [
    "#Wrong Syntax\n",
    "l1 = l1.append('f')\n",
    "l1"
   ]
  },
  {
   "cell_type": "code",
   "execution_count": 131,
   "id": "1708396d",
   "metadata": {},
   "outputs": [
    {
     "data": {
      "text/plain": [
       "NoneType"
      ]
     },
     "execution_count": 131,
     "metadata": {},
     "output_type": "execute_result"
    }
   ],
   "source": [
    "type(l1)"
   ]
  },
  {
   "cell_type": "code",
   "execution_count": 133,
   "id": "4b4d157f",
   "metadata": {},
   "outputs": [
    {
     "data": {
      "text/plain": [
       "['c', 'a', 'e', 'd', 'b', 'a']"
      ]
     },
     "execution_count": 133,
     "metadata": {},
     "output_type": "execute_result"
    }
   ],
   "source": [
    "l1 = ['c', 'a', 'e', 'd', 'b', 'a']\n",
    "l1"
   ]
  },
  {
   "cell_type": "code",
   "execution_count": 135,
   "id": "530201f3",
   "metadata": {},
   "outputs": [
    {
     "data": {
      "text/plain": [
       "2"
      ]
     },
     "execution_count": 135,
     "metadata": {},
     "output_type": "execute_result"
    }
   ],
   "source": [
    "#Save the number of occurrances in list\n",
    "c = l1.count('a')\n",
    "c"
   ]
  },
  {
   "cell_type": "code",
   "execution_count": 137,
   "id": "e8ed505a",
   "metadata": {},
   "outputs": [
    {
     "data": {
      "text/plain": [
       "['a', 'a', 'b', 'c', 'd', 'e']"
      ]
     },
     "execution_count": 137,
     "metadata": {},
     "output_type": "execute_result"
    }
   ],
   "source": [
    "#Method w/ default value\n",
    "l1.sort()\n",
    "l1"
   ]
  },
  {
   "cell_type": "code",
   "execution_count": 139,
   "id": "8792ec86",
   "metadata": {},
   "outputs": [
    {
     "data": {
      "text/plain": [
       "['e', 'd', 'c', 'b', 'a', 'a']"
      ]
     },
     "execution_count": 139,
     "metadata": {},
     "output_type": "execute_result"
    }
   ],
   "source": [
    "l1.sort(reverse = True)\n",
    "l1"
   ]
  },
  {
   "cell_type": "markdown",
   "id": "15c67409",
   "metadata": {},
   "source": [
    "# End of Code"
   ]
  }
 ],
 "metadata": {
  "kernelspec": {
   "display_name": "Python 3 (ipykernel)",
   "language": "python",
   "name": "python3"
  },
  "language_info": {
   "codemirror_mode": {
    "name": "ipython",
    "version": 3
   },
   "file_extension": ".py",
   "mimetype": "text/x-python",
   "name": "python",
   "nbconvert_exporter": "python",
   "pygments_lexer": "ipython3",
   "version": "3.12.4"
  }
 },
 "nbformat": 4,
 "nbformat_minor": 5
}
