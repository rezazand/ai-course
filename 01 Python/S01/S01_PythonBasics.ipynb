{
 "cells": [
  {
   "cell_type": "markdown",
   "id": "03c1951b-4c49-4f4c-9d53-68da6d98a124",
   "metadata": {},
   "source": [
    "# S01: Python Basics"
   ]
  },
  {
   "cell_type": "markdown",
   "id": "1ee04ea8-7585-4ec4-a1e0-9914ca53591b",
   "metadata": {},
   "source": [
    "### Data Science, Machine Learning and Artificial Intelligence - by Farzad Minooei"
   ]
  },
  {
   "cell_type": "markdown",
   "id": "c0b0402e-5d52-4a88-b39b-e1f3d0ce0777",
   "metadata": {},
   "source": [
    "## Introduction"
   ]
  },
  {
   "cell_type": "markdown",
   "id": "6ddfa17c-883f-4aef-864c-0f4164975a56",
   "metadata": {},
   "source": [
    "Note: Python is a case-sensetive language."
   ]
  },
  {
   "cell_type": "code",
   "execution_count": 1,
   "id": "971544fa-2b83-4927-a848-63af3965efa8",
   "metadata": {},
   "outputs": [
    {
     "data": {
      "text/plain": [
       "8"
      ]
     },
     "execution_count": 1,
     "metadata": {},
     "output_type": "execute_result"
    }
   ],
   "source": [
    "3 + 5"
   ]
  },
  {
   "cell_type": "markdown",
   "id": "407e6cee-4b4c-494a-be01-54baa611011a",
   "metadata": {},
   "source": [
    "Some Useful Keyboard Shortcuts:\r\n",
    "\r\n",
    "Run Cell: Ctrl + Enter\r\n",
    "\r\n",
    "Create new cell: Esc + a (above), Esc + b (below)\r\n",
    "\r\n",
    "Run Cell and creat new cell: Shift + Enter\r\n",
    "\r\n",
    "Copy Cell: Ctrl + c\r\n",
    "\r\n",
    "Paste Cell: Ctrl + v\r\n",
    "\r\n",
    "Save notebook: Esc + s\r\n",
    "\r\n",
    "Auto-completion: Tab while writing code\r\n",
    "\r\n",
    "Help: Shift + Tab"
   ]
  },
  {
   "cell_type": "code",
   "execution_count": 4,
   "id": "1cdedf29-2a03-4811-b419-20b8adb51dd6",
   "metadata": {},
   "outputs": [],
   "source": [
    "x = 2 #assignement"
   ]
  },
  {
   "cell_type": "code",
   "execution_count": 6,
   "id": "4de3a1b7-9e21-4f4c-9bbd-1aecce3fb237",
   "metadata": {},
   "outputs": [
    {
     "data": {
      "text/plain": [
       "2"
      ]
     },
     "execution_count": 6,
     "metadata": {},
     "output_type": "execute_result"
    }
   ],
   "source": [
    "x"
   ]
  },
  {
   "cell_type": "markdown",
   "id": "c8541aef-0fc8-4c90-8a73-8947afe1f6a6",
   "metadata": {},
   "source": [
    "*** Rules for writing identifiers in Python:\r\n",
    "\r\n",
    "Identifiers can be a combination of letters in lowercase (a to z) or uppercase (A to Z) or digits (0 to 9) or an underscore _.\r\n",
    "\r\n",
    "An identifier cannot start with a digit.\r\n",
    "\r\n",
    "Keywords words cannot be used as identifiers, such as: False, elif, None, else, nonlocal, lambda, True, except, not, and, finally, or, as, for, pass, assert, from, raise, break, global, return, class, if, try, continue, import, while, def, in, with, del, is, yield."
   ]
  },
  {
   "cell_type": "markdown",
   "id": "c185db85-8a8c-450d-b46b-5671d501c26c",
   "metadata": {},
   "source": [
    "Valid or invalid identifiers in Python?\r\n",
    "\r\n",
    "c001, tot@l, 5um, _cost, daily.demand, True, u_200"
   ]
  },
  {
   "cell_type": "code",
   "execution_count": 10,
   "id": "96f605ab-d39a-45e0-9004-257b1c238b50",
   "metadata": {},
   "outputs": [
    {
     "ename": "SyntaxError",
     "evalue": "cannot assign to True (3755197981.py, line 1)",
     "output_type": "error",
     "traceback": [
      "\u001b[1;36m  Cell \u001b[1;32mIn[10], line 1\u001b[1;36m\u001b[0m\n\u001b[1;33m    True = 4 #error\u001b[0m\n\u001b[1;37m    ^\u001b[0m\n\u001b[1;31mSyntaxError\u001b[0m\u001b[1;31m:\u001b[0m cannot assign to True\n"
     ]
    }
   ],
   "source": [
    "True = 4 #error"
   ]
  },
  {
   "cell_type": "code",
   "execution_count": 12,
   "id": "a3c46d9e-ca41-44c6-ae23-8dcdf0d16248",
   "metadata": {},
   "outputs": [],
   "source": [
    "#Best Practices\n",
    "  #average_daily_demand\n",
    "  #total_cost\n",
    "  #corr_coef\n",
    "  #average_weekly_demand_2024"
   ]
  },
  {
   "cell_type": "markdown",
   "id": "d27f81ca-626f-4dae-8f8a-83eee8a29bc7",
   "metadata": {},
   "source": [
    "## Numbers"
   ]
  },
  {
   "cell_type": "code",
   "execution_count": 15,
   "id": "484c1fa3-6705-4753-90b1-34c840c33216",
   "metadata": {},
   "outputs": [
    {
     "data": {
      "text/plain": [
       "1"
      ]
     },
     "execution_count": 15,
     "metadata": {},
     "output_type": "execute_result"
    }
   ],
   "source": [
    "#Integer\n",
    "x = 1\n",
    "x"
   ]
  },
  {
   "cell_type": "code",
   "execution_count": 17,
   "id": "6492e313-322d-4d5b-847e-387cfef5f03e",
   "metadata": {},
   "outputs": [
    {
     "data": {
      "text/plain": [
       "int"
      ]
     },
     "execution_count": 17,
     "metadata": {},
     "output_type": "execute_result"
    }
   ],
   "source": [
    "#Get the type\n",
    "type(x)"
   ]
  },
  {
   "cell_type": "code",
   "execution_count": 19,
   "id": "dedbeea5-b5f5-403e-95a8-bc92bf2d7a77",
   "metadata": {},
   "outputs": [
    {
     "data": {
      "text/plain": [
       "1.76"
      ]
     },
     "execution_count": 19,
     "metadata": {},
     "output_type": "execute_result"
    }
   ],
   "source": [
    "#Float\n",
    "y = 1.76\n",
    "y"
   ]
  },
  {
   "cell_type": "code",
   "execution_count": 21,
   "id": "25fec1c0-659d-46bf-b2cb-a4734f24ad8c",
   "metadata": {},
   "outputs": [
    {
     "data": {
      "text/plain": [
       "float"
      ]
     },
     "execution_count": 21,
     "metadata": {},
     "output_type": "execute_result"
    }
   ],
   "source": [
    "type(y)"
   ]
  },
  {
   "cell_type": "code",
   "execution_count": 23,
   "id": "baf26fb7-b17e-4c5f-ab4c-827a823e8cc4",
   "metadata": {},
   "outputs": [
    {
     "data": {
      "text/plain": [
       "(2+3j)"
      ]
     },
     "execution_count": 23,
     "metadata": {},
     "output_type": "execute_result"
    }
   ],
   "source": [
    "#Complex number\n",
    "z = 2 + 3j\n",
    "z"
   ]
  },
  {
   "cell_type": "code",
   "execution_count": 25,
   "id": "963c0849-3279-4ecd-a131-d71b804bde66",
   "metadata": {},
   "outputs": [
    {
     "data": {
      "text/plain": [
       "complex"
      ]
     },
     "execution_count": 25,
     "metadata": {},
     "output_type": "execute_result"
    }
   ],
   "source": [
    "type(z)"
   ]
  },
  {
   "cell_type": "code",
   "execution_count": 27,
   "id": "58f521c8-70f6-467a-971e-862ccb68b0fb",
   "metadata": {},
   "outputs": [
    {
     "data": {
      "text/plain": [
       "240000.0"
      ]
     },
     "execution_count": 27,
     "metadata": {},
     "output_type": "execute_result"
    }
   ],
   "source": [
    "#Scientific format\n",
    "f = 2.4e5 #2.4 * 10 ^ 5\n",
    "f"
   ]
  },
  {
   "cell_type": "markdown",
   "id": "03e7ea0b-81d0-47d6-89e4-19e1699602eb",
   "metadata": {},
   "source": [
    "## Strings"
   ]
  },
  {
   "cell_type": "markdown",
   "id": "1bf67b97-a4b3-4c6b-b6c0-272b99ca9b80",
   "metadata": {},
   "source": [
    "Strings are sequenc of characters."
   ]
  },
  {
   "cell_type": "code",
   "execution_count": 31,
   "id": "a08b0e79-1708-4acc-9b4f-bd3ce8a0f2a0",
   "metadata": {},
   "outputs": [
    {
     "data": {
      "text/plain": [
       "'data science'"
      ]
     },
     "execution_count": 31,
     "metadata": {},
     "output_type": "execute_result"
    }
   ],
   "source": [
    "s1 = 'data science'\n",
    "s1"
   ]
  },
  {
   "cell_type": "code",
   "execution_count": 33,
   "id": "cfdd97f4-fc5a-48c7-85a2-098a33578f97",
   "metadata": {},
   "outputs": [
    {
     "name": "stdout",
     "output_type": "stream",
     "text": [
      "machine lerning\n",
      "artificial intelligence\n"
     ]
    }
   ],
   "source": [
    "#Assign many values to multiple variables\n",
    "s2, s3 = 'machine lerning', 'artificial intelligence'\n",
    "#Print outputs\n",
    "print(s2)\n",
    "print(s3)"
   ]
  },
  {
   "cell_type": "code",
   "execution_count": 35,
   "id": "c18f6d9e-53fd-4cc1-a16d-5df24a87e215",
   "metadata": {},
   "outputs": [
    {
     "data": {
      "text/plain": [
       "'machine lerningartificial intelligence'"
      ]
     },
     "execution_count": 35,
     "metadata": {},
     "output_type": "execute_result"
    }
   ],
   "source": [
    "#Concatenate strings\n",
    "s2 + s3"
   ]
  },
  {
   "cell_type": "code",
   "execution_count": 37,
   "id": "00e73e14-8b10-4e99-a9e5-2a3e788466f4",
   "metadata": {},
   "outputs": [
    {
     "data": {
      "text/plain": [
       "'My course is about data science, machine lerning and artificial intelligence.'"
      ]
     },
     "execution_count": 37,
     "metadata": {},
     "output_type": "execute_result"
    }
   ],
   "source": [
    "'My course is about ' + s1 + ', ' + s2 + ' and ' + s3 + '.'"
   ]
  },
  {
   "cell_type": "code",
   "execution_count": 39,
   "id": "dc605e1f-5e75-4b62-a9b4-679e9fc93fc9",
   "metadata": {},
   "outputs": [
    {
     "name": "stdout",
     "output_type": "stream",
     "text": [
      "1\n"
     ]
    },
    {
     "data": {
      "text/plain": [
       "str"
      ]
     },
     "execution_count": 39,
     "metadata": {},
     "output_type": "execute_result"
    }
   ],
   "source": [
    "s4 = '1'\n",
    "print(s4)\n",
    "type(s4)"
   ]
  },
  {
   "cell_type": "code",
   "execution_count": 41,
   "id": "f3341aee-760f-46e5-9d6e-e8ad9bf61438",
   "metadata": {},
   "outputs": [
    {
     "ename": "TypeError",
     "evalue": "can only concatenate str (not \"int\") to str",
     "output_type": "error",
     "traceback": [
      "\u001b[1;31m---------------------------------------------------------------------------\u001b[0m",
      "\u001b[1;31mTypeError\u001b[0m                                 Traceback (most recent call last)",
      "Cell \u001b[1;32mIn[41], line 1\u001b[0m\n\u001b[1;32m----> 1\u001b[0m s4 \u001b[38;5;241m+\u001b[39m \u001b[38;5;241m2\u001b[39m\n",
      "\u001b[1;31mTypeError\u001b[0m: can only concatenate str (not \"int\") to str"
     ]
    }
   ],
   "source": [
    "s4 + 2 #error"
   ]
  },
  {
   "cell_type": "code",
   "execution_count": 47,
   "id": "d992d706-3db1-483f-99d6-8e4a4500e7db",
   "metadata": {},
   "outputs": [
    {
     "data": {
      "text/plain": [
       "'12'"
      ]
     },
     "execution_count": 47,
     "metadata": {},
     "output_type": "execute_result"
    }
   ],
   "source": [
    "s4 + '2'"
   ]
  },
  {
   "cell_type": "markdown",
   "id": "3aa04535-de44-4e47-9aee-14cace61ae8e",
   "metadata": {},
   "source": [
    "## Arithmetic Operators\n"
   ]
  },
  {
   "cell_type": "code",
   "execution_count": 50,
   "id": "0c208c6f-9730-4e23-ba46-4ad632a38f34",
   "metadata": {},
   "outputs": [
    {
     "name": "stdout",
     "output_type": "stream",
     "text": [
      "5\n",
      "17\n"
     ]
    }
   ],
   "source": [
    "x = 5\n",
    "y = 17\n",
    "print(x)\n",
    "print(y)"
   ]
  },
  {
   "cell_type": "code",
   "execution_count": 52,
   "id": "cfa726d5-1e9e-4e25-832d-b1409c1b0161",
   "metadata": {},
   "outputs": [
    {
     "data": {
      "text/plain": [
       "22"
      ]
     },
     "execution_count": 52,
     "metadata": {},
     "output_type": "execute_result"
    }
   ],
   "source": [
    "#Addition\n",
    "x + y"
   ]
  },
  {
   "cell_type": "code",
   "execution_count": 54,
   "id": "d17d0861-f60b-450e-a53e-e281a695a081",
   "metadata": {},
   "outputs": [
    {
     "data": {
      "text/plain": [
       "-12"
      ]
     },
     "execution_count": 54,
     "metadata": {},
     "output_type": "execute_result"
    }
   ],
   "source": [
    "#Subtraction\n",
    "x - y"
   ]
  },
  {
   "cell_type": "code",
   "execution_count": 56,
   "id": "653362a2-ecca-4ae1-89e9-ed8c0c21bb74",
   "metadata": {},
   "outputs": [
    {
     "data": {
      "text/plain": [
       "85"
      ]
     },
     "execution_count": 56,
     "metadata": {},
     "output_type": "execute_result"
    }
   ],
   "source": [
    "#Multiplication\t\n",
    "x * y"
   ]
  },
  {
   "cell_type": "code",
   "execution_count": 58,
   "id": "becadf65-7d39-4ca1-9622-f716efcba9fe",
   "metadata": {},
   "outputs": [
    {
     "data": {
      "text/plain": [
       "3.4"
      ]
     },
     "execution_count": 58,
     "metadata": {},
     "output_type": "execute_result"
    }
   ],
   "source": [
    "#Division\n",
    "y / x"
   ]
  },
  {
   "cell_type": "code",
   "execution_count": 60,
   "id": "841921dd-e422-4b5f-baa6-64661377a063",
   "metadata": {},
   "outputs": [
    {
     "data": {
      "text/plain": [
       "3"
      ]
     },
     "execution_count": 60,
     "metadata": {},
     "output_type": "execute_result"
    }
   ],
   "source": [
    "#Floor division\n",
    "y // x"
   ]
  },
  {
   "cell_type": "code",
   "execution_count": 62,
   "id": "3a0baeb3-a8cf-4184-88c5-fc6d4c30a6ab",
   "metadata": {},
   "outputs": [
    {
     "data": {
      "text/plain": [
       "2"
      ]
     },
     "execution_count": 62,
     "metadata": {},
     "output_type": "execute_result"
    }
   ],
   "source": [
    "#Modulus\n",
    "y % x"
   ]
  },
  {
   "cell_type": "code",
   "execution_count": 64,
   "id": "418e048b-4e53-4a06-afce-36de2b6ad476",
   "metadata": {},
   "outputs": [
    {
     "data": {
      "text/plain": [
       "25"
      ]
     },
     "execution_count": 64,
     "metadata": {},
     "output_type": "execute_result"
    }
   ],
   "source": [
    "#Exponentiation\n",
    "x ** 2"
   ]
  },
  {
   "cell_type": "code",
   "execution_count": 66,
   "id": "37dc4f46-2531-4e4f-85e4-37ea9778d776",
   "metadata": {},
   "outputs": [
    {
     "data": {
      "text/plain": [
       "2"
      ]
     },
     "execution_count": 66,
     "metadata": {},
     "output_type": "execute_result"
    }
   ],
   "source": [
    "#Operator Precedence\n",
    "8 - 2 * 3"
   ]
  },
  {
   "cell_type": "code",
   "execution_count": 68,
   "id": "7151c95d-6701-4ffb-afe9-c5c968e1fba5",
   "metadata": {},
   "outputs": [
    {
     "name": "stdout",
     "output_type": "stream",
     "text": [
      "2\n",
      "18\n"
     ]
    }
   ],
   "source": [
    "print(8 - (2 * 3))\n",
    "print((8 - 2) * 3)"
   ]
  },
  {
   "cell_type": "code",
   "execution_count": 70,
   "id": "b063593c-5a94-46f1-a023-40eed3ab4718",
   "metadata": {},
   "outputs": [
    {
     "data": {
      "text/plain": [
       "1.2599210498948732"
      ]
     },
     "execution_count": 70,
     "metadata": {},
     "output_type": "execute_result"
    }
   ],
   "source": [
    "#Example: Guess the result.\n",
    "2 ** 3 ** -1"
   ]
  },
  {
   "cell_type": "code",
   "execution_count": 72,
   "id": "896dfa58-b95e-4958-83dd-330fe88a97ec",
   "metadata": {},
   "outputs": [
    {
     "name": "stdout",
     "output_type": "stream",
     "text": [
      "1.2599210498948732\n",
      "0.125\n"
     ]
    }
   ],
   "source": [
    "print(2 ** (3 ** -1))\n",
    "print((2 ** 3) ** -1)"
   ]
  },
  {
   "cell_type": "markdown",
   "id": "974f7c2c-96cb-45d0-b578-518167ccc2b8",
   "metadata": {},
   "source": [
    "## Comparison Operators"
   ]
  },
  {
   "cell_type": "code",
   "execution_count": 75,
   "id": "afada7b3-2d97-45c5-9837-74e1d466fa22",
   "metadata": {},
   "outputs": [
    {
     "data": {
      "text/plain": [
       "False"
      ]
     },
     "execution_count": 75,
     "metadata": {},
     "output_type": "execute_result"
    }
   ],
   "source": [
    "#Equal\n",
    "x == y"
   ]
  },
  {
   "cell_type": "code",
   "execution_count": 77,
   "id": "aae06bed-9eef-49c7-af3d-0c8083fe8c16",
   "metadata": {},
   "outputs": [
    {
     "data": {
      "text/plain": [
       "True"
      ]
     },
     "execution_count": 77,
     "metadata": {},
     "output_type": "execute_result"
    }
   ],
   "source": [
    "#Not equal\n",
    "x != y"
   ]
  },
  {
   "cell_type": "code",
   "execution_count": 79,
   "id": "d443876f-69e6-4383-b3e4-a11914c5ccab",
   "metadata": {},
   "outputs": [
    {
     "data": {
      "text/plain": [
       "False"
      ]
     },
     "execution_count": 79,
     "metadata": {},
     "output_type": "execute_result"
    }
   ],
   "source": [
    "#Greater than\n",
    "x > y"
   ]
  },
  {
   "cell_type": "code",
   "execution_count": 81,
   "id": "5a422393-217e-4d94-8949-557763bb13fb",
   "metadata": {},
   "outputs": [
    {
     "data": {
      "text/plain": [
       "True"
      ]
     },
     "execution_count": 81,
     "metadata": {},
     "output_type": "execute_result"
    }
   ],
   "source": [
    "#Greater than or equal to\n",
    "x <= y"
   ]
  },
  {
   "cell_type": "markdown",
   "id": "87142b58-1a56-4a5b-92ba-ddb7971aebb0",
   "metadata": {},
   "source": [
    "## Assignment Operators\n"
   ]
  },
  {
   "cell_type": "code",
   "execution_count": 84,
   "id": "4e54ad36-dfa4-4586-b81b-49310bdb1a21",
   "metadata": {},
   "outputs": [
    {
     "data": {
      "text/plain": [
       "1"
      ]
     },
     "execution_count": 84,
     "metadata": {},
     "output_type": "execute_result"
    }
   ],
   "source": [
    "a = 1\n",
    "a"
   ]
  },
  {
   "cell_type": "code",
   "execution_count": 86,
   "id": "8ba3207c-8f7e-4527-bb33-e2c9d12a7b18",
   "metadata": {},
   "outputs": [
    {
     "data": {
      "text/plain": [
       "2"
      ]
     },
     "execution_count": 86,
     "metadata": {},
     "output_type": "execute_result"
    }
   ],
   "source": [
    "a += 1 #a = a + 1\n",
    "a"
   ]
  },
  {
   "cell_type": "code",
   "execution_count": 88,
   "id": "1b5f0bcd-8ab0-4085-a76a-fdb851048de4",
   "metadata": {},
   "outputs": [
    {
     "data": {
      "text/plain": [
       "81"
      ]
     },
     "execution_count": 88,
     "metadata": {},
     "output_type": "execute_result"
    }
   ],
   "source": [
    "#Example: Guess the result.\n",
    "b = 3\n",
    "b **= 4\n",
    "b"
   ]
  },
  {
   "cell_type": "markdown",
   "id": "8010b3da-4de0-4afe-a8a1-5fe42c46610b",
   "metadata": {},
   "source": [
    "## Logical Operators"
   ]
  },
  {
   "cell_type": "code",
   "execution_count": 91,
   "id": "4d87b217-7b66-4fab-94ac-f6811f4a6a5a",
   "metadata": {},
   "outputs": [
    {
     "data": {
      "text/plain": [
       "False"
      ]
     },
     "execution_count": 91,
     "metadata": {},
     "output_type": "execute_result"
    }
   ],
   "source": [
    "#not: reverse the result.\n",
    "not True"
   ]
  },
  {
   "cell_type": "code",
   "execution_count": 93,
   "id": "152696aa-45db-4a86-be30-4cdd217311dd",
   "metadata": {},
   "outputs": [
    {
     "data": {
      "text/plain": [
       "True"
      ]
     },
     "execution_count": 93,
     "metadata": {},
     "output_type": "execute_result"
    }
   ],
   "source": [
    "#and: returns True if both statements are true.\n",
    "True and True"
   ]
  },
  {
   "cell_type": "code",
   "execution_count": 95,
   "id": "4b9a98dc-19b1-4d04-91a1-f978a6cb1a6a",
   "metadata": {},
   "outputs": [
    {
     "data": {
      "text/plain": [
       "False"
      ]
     },
     "execution_count": 95,
     "metadata": {},
     "output_type": "execute_result"
    }
   ],
   "source": [
    "True and False"
   ]
  },
  {
   "cell_type": "code",
   "execution_count": 97,
   "id": "509a556c-2cf7-4f09-af18-c433668aee83",
   "metadata": {},
   "outputs": [
    {
     "data": {
      "text/plain": [
       "False"
      ]
     },
     "execution_count": 97,
     "metadata": {},
     "output_type": "execute_result"
    }
   ],
   "source": [
    "#or: returns True if one of the statements is true\n",
    "True and False"
   ]
  },
  {
   "cell_type": "code",
   "execution_count": 99,
   "id": "9e1fadc7-32d7-475f-b98a-264aa455c282",
   "metadata": {},
   "outputs": [
    {
     "data": {
      "text/plain": [
       "False"
      ]
     },
     "execution_count": 99,
     "metadata": {},
     "output_type": "execute_result"
    }
   ],
   "source": [
    "False or False"
   ]
  },
  {
   "cell_type": "code",
   "execution_count": 101,
   "id": "ac7d50a4-70fa-47c8-af65-2c23fdb196b2",
   "metadata": {},
   "outputs": [
    {
     "name": "stdout",
     "output_type": "stream",
     "text": [
      "5\n",
      "17\n",
      "False\n"
     ]
    }
   ],
   "source": [
    "print(x)\n",
    "print(y)\n",
    "print(not x > 0)"
   ]
  },
  {
   "cell_type": "code",
   "execution_count": 103,
   "id": "ef22e2e5-fab6-40e4-a3fd-d420b88071e3",
   "metadata": {},
   "outputs": [
    {
     "data": {
      "text/plain": [
       "False"
      ]
     },
     "execution_count": 103,
     "metadata": {},
     "output_type": "execute_result"
    }
   ],
   "source": [
    "x > 0 and y < -1"
   ]
  },
  {
   "cell_type": "code",
   "execution_count": 105,
   "id": "d4d7a42a-3e26-418f-8987-b0fe64988767",
   "metadata": {},
   "outputs": [
    {
     "data": {
      "text/plain": [
       "True"
      ]
     },
     "execution_count": 105,
     "metadata": {},
     "output_type": "execute_result"
    }
   ],
   "source": [
    "x > 0 or y < -1"
   ]
  },
  {
   "cell_type": "code",
   "execution_count": 107,
   "id": "69dd53be-ffdd-494c-8b86-09655dfe4ac4",
   "metadata": {},
   "outputs": [
    {
     "data": {
      "text/plain": [
       "True"
      ]
     },
     "execution_count": 107,
     "metadata": {},
     "output_type": "execute_result"
    }
   ],
   "source": [
    "#Example: Guess the result.\n",
    "not(y % 2 <= 0)"
   ]
  },
  {
   "cell_type": "code",
   "execution_count": 109,
   "id": "4e076f53-68b3-4dc9-9b19-1843b4766b74",
   "metadata": {},
   "outputs": [],
   "source": [
    "#Example:\n",
    "#Write a script that gets a radius (r) of a sphere from user,\n",
    "# then displays the volume of the sphere. \n",
    "# Solve the provlem with r = 6 cm.\n",
    "\n",
    "#Problem solving approach: divide-and-conquer technique"
   ]
  },
  {
   "cell_type": "code",
   "execution_count": 111,
   "id": "6cef599d-61f6-4285-9995-d56ecf9c5a91",
   "metadata": {},
   "outputs": [
    {
     "name": "stdin",
     "output_type": "stream",
     "text": [
      "Please enter the radius of a sphere in cm. 6\n"
     ]
    }
   ],
   "source": [
    "#Step 1: get input \n",
    "r = input('Please enter the radius of a sphere in cm.')"
   ]
  },
  {
   "cell_type": "code",
   "execution_count": 113,
   "id": "fe4a8d2a-c79b-4dca-9ad3-45eaf2801310",
   "metadata": {},
   "outputs": [
    {
     "data": {
      "text/plain": [
       "'6'"
      ]
     },
     "execution_count": 113,
     "metadata": {},
     "output_type": "execute_result"
    }
   ],
   "source": [
    "r"
   ]
  },
  {
   "cell_type": "code",
   "execution_count": 115,
   "id": "7a6683dc-f83c-4720-ac9c-4b2cfbcd1f25",
   "metadata": {},
   "outputs": [
    {
     "data": {
      "text/plain": [
       "str"
      ]
     },
     "execution_count": 115,
     "metadata": {},
     "output_type": "execute_result"
    }
   ],
   "source": [
    "type(r)"
   ]
  },
  {
   "cell_type": "code",
   "execution_count": 117,
   "id": "080179aa-054b-47b8-b2d1-46102fbc8f56",
   "metadata": {},
   "outputs": [
    {
     "data": {
      "text/plain": [
       "float"
      ]
     },
     "execution_count": 117,
     "metadata": {},
     "output_type": "execute_result"
    }
   ],
   "source": [
    "r = float(r)\n",
    "type(r)"
   ]
  },
  {
   "cell_type": "code",
   "execution_count": 119,
   "id": "758a7d3f-143b-498d-ab8b-df302c408301",
   "metadata": {},
   "outputs": [
    {
     "data": {
      "text/plain": [
       "904.3199999999999"
      ]
     },
     "execution_count": 119,
     "metadata": {},
     "output_type": "execute_result"
    }
   ],
   "source": [
    "#Step 2: calculate the volume of the sphere\n",
    "volume = 4 / 3 * 3.14 * r ** 3\n",
    "volume"
   ]
  },
  {
   "cell_type": "code",
   "execution_count": 121,
   "id": "44ff3e76-4148-4014-8e05-910e70397e4b",
   "metadata": {},
   "outputs": [
    {
     "name": "stdout",
     "output_type": "stream",
     "text": [
      "The volume of the sphere is 904.320 cm3.\n"
     ]
    }
   ],
   "source": [
    "#Step 3: Display the result for the user\n",
    "print('The volume of the sphere is {vol:0.3f} cm3.'.format(vol = volume))"
   ]
  },
  {
   "cell_type": "code",
   "execution_count": 123,
   "id": "0a6a720f-80eb-4b9d-848d-dfa5abedc8f9",
   "metadata": {},
   "outputs": [],
   "source": [
    "#Example:\n",
    "#Develop a script that gets a number of seconds, \n",
    "#then displays the equivalent amount of time in the form D:HH:MM:SS, \n",
    "#where D, HH, MM, and SS represent days, hours, minutes and seconds respectively.\n",
    "\n",
    "#Problem solving approach: starts at the end and works toward the beginning"
   ]
  },
  {
   "cell_type": "code",
   "execution_count": 125,
   "id": "9bead13a-ef48-47d4-ae33-04e5dad20183",
   "metadata": {},
   "outputs": [
    {
     "data": {
      "text/plain": [
       "279099"
      ]
     },
     "execution_count": 125,
     "metadata": {},
     "output_type": "execute_result"
    }
   ],
   "source": [
    "#Example: 3 days, 5 hours, 31 minutes, and 39 secs\n",
    "sec = 3 * 24 * 60 * 60 + 5 * 60 * 60 + 31 * 60 + 39\n",
    "sec"
   ]
  },
  {
   "cell_type": "code",
   "execution_count": 127,
   "id": "f3b94bc5-de32-4831-8cf6-05f5b47e1abe",
   "metadata": {},
   "outputs": [
    {
     "data": {
      "text/plain": [
       "39"
      ]
     },
     "execution_count": 127,
     "metadata": {},
     "output_type": "execute_result"
    }
   ],
   "source": [
    "#Extract seconds\n",
    "sec % 60"
   ]
  },
  {
   "cell_type": "code",
   "execution_count": 129,
   "id": "a5d425fe-559d-4c76-a26f-1a25c7faed05",
   "metadata": {},
   "outputs": [
    {
     "data": {
      "text/plain": [
       "31"
      ]
     },
     "execution_count": 129,
     "metadata": {},
     "output_type": "execute_result"
    }
   ],
   "source": [
    "#Extract minutes\n",
    "sec // 60 % 60"
   ]
  },
  {
   "cell_type": "code",
   "execution_count": 131,
   "id": "663413e3-f155-40c8-94ca-4f9e6855ad81",
   "metadata": {},
   "outputs": [
    {
     "data": {
      "text/plain": [
       "5"
      ]
     },
     "execution_count": 131,
     "metadata": {},
     "output_type": "execute_result"
    }
   ],
   "source": [
    "#Extract hours\n",
    "sec // 60 // 60 % 24"
   ]
  },
  {
   "cell_type": "code",
   "execution_count": 133,
   "id": "a7bd707a-fea7-4f88-86e0-a0145097d944",
   "metadata": {},
   "outputs": [
    {
     "data": {
      "text/plain": [
       "3"
      ]
     },
     "execution_count": 133,
     "metadata": {},
     "output_type": "execute_result"
    }
   ],
   "source": [
    "#Extract days\n",
    "sec // 60 // 60 // 24"
   ]
  },
  {
   "cell_type": "code",
   "execution_count": 135,
   "id": "625f4561-e267-49c5-9f46-8dec59d1f70a",
   "metadata": {},
   "outputs": [
    {
     "name": "stdin",
     "output_type": "stream",
     "text": [
      "Please enter a number in seconds. 279099\n"
     ]
    }
   ],
   "source": [
    "#Step 1: get input \n",
    "sec = int(input('Please enter a number in seconds.'))"
   ]
  },
  {
   "cell_type": "code",
   "execution_count": 137,
   "id": "85dbead5-7b11-47b7-ae5b-9d19f6f7e2c9",
   "metadata": {},
   "outputs": [
    {
     "name": "stdout",
     "output_type": "stream",
     "text": [
      "3 5 31 39\n"
     ]
    }
   ],
   "source": [
    "#Step 2: calculation\n",
    "d, h, m, s = sec // 60 // 60 // 24, sec // 60 // 60 % 24, sec // 60 % 60, sec % 60\n",
    "print(d, h, m, s)"
   ]
  },
  {
   "cell_type": "code",
   "execution_count": 139,
   "id": "c77e0e23-5ee2-4651-8749-8b2f7f600237",
   "metadata": {},
   "outputs": [
    {
     "name": "stdout",
     "output_type": "stream",
     "text": [
      "The equivalent amount of time is 3:5:31:39.\n"
     ]
    }
   ],
   "source": [
    "#Step 3: Display the result for the user\n",
    "print('The equivalent amount of time is {day}:{hour}:{min}:{sec}.'.format(day = d, \n",
    "                                                                          hour = h, \n",
    "                                                                          min = m, \n",
    "                                                                          sec = s))"
   ]
  },
  {
   "cell_type": "markdown",
   "id": "4f73c620-6478-43c1-af0a-aa26b245ddf6",
   "metadata": {},
   "source": [
    "## Save Your Notebook\n",
    "\n",
    "Save as .html, .py, and .ipynb."
   ]
  },
  {
   "cell_type": "markdown",
   "id": "bf95dee8-0a2a-415a-9f86-57908dfbc4de",
   "metadata": {},
   "source": [
    "# End of Code"
   ]
  }
 ],
 "metadata": {
  "kernelspec": {
   "display_name": "Python 3 (ipykernel)",
   "language": "python",
   "name": "python3"
  },
  "language_info": {
   "codemirror_mode": {
    "name": "ipython",
    "version": 3
   },
   "file_extension": ".py",
   "mimetype": "text/x-python",
   "name": "python",
   "nbconvert_exporter": "python",
   "pygments_lexer": "ipython3",
   "version": "3.12.4"
  }
 },
 "nbformat": 4,
 "nbformat_minor": 5
}
