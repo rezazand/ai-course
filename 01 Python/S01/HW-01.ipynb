{
 "cells": [
  {
   "cell_type": "markdown",
   "id": "1f846c19-cb41-4927-ab63-6451dacebd61",
   "metadata": {},
   "source": [
    "<div dir='rtl'>\n",
    "    کدی بنویسید که که مختصات دو نقطه را در صفحه دکارتی از کاربر بگیرد و شیب خط متصل‌کننده دو نقطه را محاسبه کند. سپس به ازای مقادیر زیر شیب خط را حساب کنید.\n",
    "\n",
    "نقطه اول\n",
    "x1 = 3, y1 = 4\n",
    "\n",
    "نقطه دوم\n",
    "x2 = 5, y2 = 9 \n",
    "</div>"
   ]
  },
  {
   "cell_type": "code",
   "execution_count": 2,
   "id": "12db491a-1bdf-4000-bf29-6a748cc5f825",
   "metadata": {},
   "outputs": [
    {
     "name": "stdin",
     "output_type": "stream",
     "text": [
      "Please enter the X coordination of the first spot:  3\n",
      "Please enter the Y coordination of the first spot:  4\n",
      "Please enter the X coordination of the second spot:  5\n",
      "Please enter the Y coordination of the first spot:  9\n"
     ]
    },
    {
     "name": "stdout",
     "output_type": "stream",
     "text": [
      "The line slop of your entered spots is: 2.5\n"
     ]
    }
   ],
   "source": [
    "#Get the coordinations of the spots from the user\n",
    "first_x = int(input(\"Please enter the X coordination of the first spot: \"))\n",
    "first_y = int(input(\"Please enter the Y coordination of the first spot: \"))\n",
    "second_x = int(input(\"Please enter the X coordination of the second spot: \"))\n",
    "second_y = int(input(\"Please enter the Y coordination of the first spot: \"))\n",
    "\n",
    "# calculation of slop\n",
    "slop = (second_y - first_y) / (second_x - first_x)\n",
    "\n",
    "#Despaly\n",
    "print(f\"The line slop of your entered spots is: {slop}\")"
   ]
  },
  {
   "cell_type": "markdown",
   "id": "03b2dbd6-160a-4468-8ef3-01e394612f16",
   "metadata": {},
   "source": [
    "<div dir='rtl'>\n",
    "    کدی بنویسید که که مختصات دو نقطه را در صفحه دکارتی از کاربر بگیرد و فاصله اقلیدوسی بین دو نقطه را محاسبه کند. سپس به ازای مقادیر زیر فاصله اقلیدسی بین دو نقطه را حساب کنید.\n",
    "\n",
    "نقطه اول\n",
    "x1 = 3, y1 = 4\n",
    "\n",
    "نقطه دوم\n",
    "x2 = 5, y2 = 9 \n",
    "</div>"
   ]
  },
  {
   "cell_type": "code",
   "execution_count": 6,
   "id": "188ffe4f-6833-4128-9d38-cec96a907491",
   "metadata": {},
   "outputs": [
    {
     "name": "stdin",
     "output_type": "stream",
     "text": [
      "Please enter the X coordination of the first spot:  3\n",
      "Please enter the Y coordination of the first spot:  4\n",
      "Please enter the X coordination of the second spot:  5\n",
      "Please enter the Y coordination of the first spot:  9\n"
     ]
    },
    {
     "name": "stdout",
     "output_type": "stream",
     "text": [
      "Here is the eucudean distance of your spots: 5.39\n"
     ]
    }
   ],
   "source": [
    "#Get the coordinations of the spots from the user\n",
    "first_x = int(input(\"Please enter the X coordination of the first spot: \"))\n",
    "first_y = int(input(\"Please enter the Y coordination of the first spot: \"))\n",
    "second_x = int(input(\"Please enter the X coordination of the second spot: \"))\n",
    "second_y = int(input(\"Please enter the Y coordination of the first spot: \"))\n",
    "\n",
    "#calculations \n",
    "euclidean_distance = ((second_x - first_x)**2 + (second_y - first_y)**2) ** (1/2)\n",
    "\n",
    "#Display\n",
    "print(f\"Here is the eucudean distance of your spots: {euclidean_distance:0.2f}\")"
   ]
  },
  {
   "cell_type": "markdown",
   "id": "0c15a3d1-9762-485e-aa9e-7f30e8f4114e",
   "metadata": {},
   "source": [
    "<div dir='rtl'>\n",
    "    قیمت روی جلد یک کتاب p دلار است ولی فروشنده کتاب آن را با تخفیف d درصدی عرضه می‌کند. هزینه ارسال اولین نسخه کتاب c دلار است و به ازای هر نسخه اضافه‌تر s سنت به هزینه حمل اضافه می‌گردد. کدی بنویسید که هزینه کلی تامین کتاب به ازای a نسخه را محاسبه کند. \n",
    " \n",
    "سپس مسئله را به ازای مقادیر زیر حل کنید. پاسخ صحیح کدام است؟\n",
    "p = 49.99\n",
    "d = 30\n",
    "c = 3\n",
    "s = 65\n",
    "a = 80\n",
    "</div>"
   ]
  },
  {
   "cell_type": "code",
   "execution_count": 6,
   "id": "a3bfee0a-7482-431c-a05e-f302ab6248b4",
   "metadata": {},
   "outputs": [
    {
     "name": "stdin",
     "output_type": "stream",
     "text": [
      "Enter the price on the book cover. 49.99\n",
      "How much discount is the seller offering? 30\n",
      "How much does it cost to send a package? 3\n",
      "How much is the additional cost for each more of the book?  65\n",
      "How many copies of this book do you want?  80\n"
     ]
    },
    {
     "name": "stdout",
     "output_type": "stream",
     "text": [
      "Total cost of your purches is: 2853.79\n"
     ]
    }
   ],
   "source": [
    "def total_price(p,d,c,s,a):\n",
    "    price = p*a \n",
    "    price -= price* d/100 #price after discount\n",
    "    if a == 1:\n",
    "        price += c # price if we want just of the book\n",
    "    else:\n",
    "        price += c + s*(a-1)/100 #price if we want for than 1 of the book (For each additional copy of the book, s cents more.)\n",
    "    return price\n",
    "\n",
    "price = float(input('Enter the price on the book cover.'))\n",
    "discount = float(input('How much discount is the seller offering?'))\n",
    "shipping_cost = float(input('How much does it cost to send a package?'))\n",
    "additional_cost = int(input('How much is the additional cost for each more of the book? '))\n",
    "copies = int(input('How many copies of the book have been purchased? '))\n",
    "\n",
    "print(f\"Total cost of your purches is: {total_price(price,discount,shipping_cost,additional_cost,copies)}\")"
   ]
  },
  {
   "cell_type": "code",
   "execution_count": null,
   "id": "cfcc4f41-8d91-4402-94e8-b8ce40287c07",
   "metadata": {},
   "outputs": [],
   "source": []
  }
 ],
 "metadata": {
  "kernelspec": {
   "display_name": "Python 3 (ipykernel)",
   "language": "python",
   "name": "python3"
  },
  "language_info": {
   "codemirror_mode": {
    "name": "ipython",
    "version": 3
   },
   "file_extension": ".py",
   "mimetype": "text/x-python",
   "name": "python",
   "nbconvert_exporter": "python",
   "pygments_lexer": "ipython3",
   "version": "3.13.5"
  }
 },
 "nbformat": 4,
 "nbformat_minor": 5
}
